{
  "nbformat": 4,
  "nbformat_minor": 0,
  "metadata": {
    "colab": {
      "provenance": []
    },
    "kernelspec": {
      "name": "python3",
      "display_name": "Python 3"
    },
    "language_info": {
      "name": "python"
    }
  },
  "cells": [
    {
      "cell_type": "markdown",
      "source": [
        "## Diagnóstico y Transformación de Datos Crudos\n",
        "\n",
        "**Contexto:**  \n",
        "Los modelos de *Machine Learning* solo funcionan correctamente si los datos han sido preparados de forma adecuada.  \n",
        "Esta actividad tiene como objetivo aplicar un diagnóstico y tratamiento básico sobre un *dataset* realista, para asegurar que esté listo para el modelado.\n",
        "\n",
        "**Consigna:**  \n",
        "Trabaja sobre un conjunto de datos crudos que contenga problemas típicos:\n",
        "- Valores nulos.\n",
        "- Variables categóricas.\n",
        "- Escalas desiguales.\n",
        "- Posibles duplicados.\n",
        "\n",
        "Identifica y aplica las transformaciones necesarias para dejarlo preparado para el entrenamiento de un modelo de *Machine Learning*.\n",
        "\n",
        "---\n",
        "\n",
        "### Paso a Paso\n",
        "\n",
        "1. **Carga de datos:**  \n",
        "   Importa el *dataset* simulado (provisto por el docente).\n",
        "\n",
        "2. **Diagnóstico inicial:**  \n",
        "   - Detecta valores faltantes.  \n",
        "   - Identifica filas o registros duplicados.  \n",
        "   - Reconoce variables categóricas.  \n",
        "   - Verifica la existencia de escalas diferentes entre variables numéricas.\n",
        "\n",
        "3. **Tratamiento de datos:**  \n",
        "   - **Imputación:** utilizar `SimpleImputer` con media o mediana, según corresponda.  \n",
        "   - **Codificación:** aplicar `OneHotEncoder` o `LabelEncoder` para variables categóricas.  \n",
        "   - **Escalamiento:** usar `MinMaxScaler` o `StandardScaler` para uniformar las escalas.\n",
        "\n",
        "4. **Comparación y reflexión:**  \n",
        "   - Mostrar el estado de los datos antes y después del tratamiento.  \n",
        "   - Explicar los cambios realizados y cómo mejoran la preparación de los datos para el modelado.\n"
      ],
      "metadata": {
        "id": "HYyDO-L85Zey"
      }
    },
    {
      "cell_type": "code",
      "execution_count": null,
      "metadata": {
        "colab": {
          "base_uri": "https://localhost:8080/",
          "height": 201
        },
        "id": "l1qbRzZy5HN2",
        "outputId": "ab8bb26c-40f5-4b7e-a93a-b0575767c52c"
      },
      "outputs": [
        {
          "output_type": "display_data",
          "data": {
            "text/plain": [
              "<IPython.core.display.HTML object>"
            ],
            "text/html": [
              "\n",
              "     <input type=\"file\" id=\"files-295cb8da-24f0-4a38-a382-870a3e2277d4\" name=\"files[]\" multiple disabled\n",
              "        style=\"border:none\" />\n",
              "     <output id=\"result-295cb8da-24f0-4a38-a382-870a3e2277d4\">\n",
              "      Upload widget is only available when the cell has been executed in the\n",
              "      current browser session. Please rerun this cell to enable.\n",
              "      </output>\n",
              "      <script>// Copyright 2017 Google LLC\n",
              "//\n",
              "// Licensed under the Apache License, Version 2.0 (the \"License\");\n",
              "// you may not use this file except in compliance with the License.\n",
              "// You may obtain a copy of the License at\n",
              "//\n",
              "//      http://www.apache.org/licenses/LICENSE-2.0\n",
              "//\n",
              "// Unless required by applicable law or agreed to in writing, software\n",
              "// distributed under the License is distributed on an \"AS IS\" BASIS,\n",
              "// WITHOUT WARRANTIES OR CONDITIONS OF ANY KIND, either express or implied.\n",
              "// See the License for the specific language governing permissions and\n",
              "// limitations under the License.\n",
              "\n",
              "/**\n",
              " * @fileoverview Helpers for google.colab Python module.\n",
              " */\n",
              "(function(scope) {\n",
              "function span(text, styleAttributes = {}) {\n",
              "  const element = document.createElement('span');\n",
              "  element.textContent = text;\n",
              "  for (const key of Object.keys(styleAttributes)) {\n",
              "    element.style[key] = styleAttributes[key];\n",
              "  }\n",
              "  return element;\n",
              "}\n",
              "\n",
              "// Max number of bytes which will be uploaded at a time.\n",
              "const MAX_PAYLOAD_SIZE = 100 * 1024;\n",
              "\n",
              "function _uploadFiles(inputId, outputId) {\n",
              "  const steps = uploadFilesStep(inputId, outputId);\n",
              "  const outputElement = document.getElementById(outputId);\n",
              "  // Cache steps on the outputElement to make it available for the next call\n",
              "  // to uploadFilesContinue from Python.\n",
              "  outputElement.steps = steps;\n",
              "\n",
              "  return _uploadFilesContinue(outputId);\n",
              "}\n",
              "\n",
              "// This is roughly an async generator (not supported in the browser yet),\n",
              "// where there are multiple asynchronous steps and the Python side is going\n",
              "// to poll for completion of each step.\n",
              "// This uses a Promise to block the python side on completion of each step,\n",
              "// then passes the result of the previous step as the input to the next step.\n",
              "function _uploadFilesContinue(outputId) {\n",
              "  const outputElement = document.getElementById(outputId);\n",
              "  const steps = outputElement.steps;\n",
              "\n",
              "  const next = steps.next(outputElement.lastPromiseValue);\n",
              "  return Promise.resolve(next.value.promise).then((value) => {\n",
              "    // Cache the last promise value to make it available to the next\n",
              "    // step of the generator.\n",
              "    outputElement.lastPromiseValue = value;\n",
              "    return next.value.response;\n",
              "  });\n",
              "}\n",
              "\n",
              "/**\n",
              " * Generator function which is called between each async step of the upload\n",
              " * process.\n",
              " * @param {string} inputId Element ID of the input file picker element.\n",
              " * @param {string} outputId Element ID of the output display.\n",
              " * @return {!Iterable<!Object>} Iterable of next steps.\n",
              " */\n",
              "function* uploadFilesStep(inputId, outputId) {\n",
              "  const inputElement = document.getElementById(inputId);\n",
              "  inputElement.disabled = false;\n",
              "\n",
              "  const outputElement = document.getElementById(outputId);\n",
              "  outputElement.innerHTML = '';\n",
              "\n",
              "  const pickedPromise = new Promise((resolve) => {\n",
              "    inputElement.addEventListener('change', (e) => {\n",
              "      resolve(e.target.files);\n",
              "    });\n",
              "  });\n",
              "\n",
              "  const cancel = document.createElement('button');\n",
              "  inputElement.parentElement.appendChild(cancel);\n",
              "  cancel.textContent = 'Cancel upload';\n",
              "  const cancelPromise = new Promise((resolve) => {\n",
              "    cancel.onclick = () => {\n",
              "      resolve(null);\n",
              "    };\n",
              "  });\n",
              "\n",
              "  // Wait for the user to pick the files.\n",
              "  const files = yield {\n",
              "    promise: Promise.race([pickedPromise, cancelPromise]),\n",
              "    response: {\n",
              "      action: 'starting',\n",
              "    }\n",
              "  };\n",
              "\n",
              "  cancel.remove();\n",
              "\n",
              "  // Disable the input element since further picks are not allowed.\n",
              "  inputElement.disabled = true;\n",
              "\n",
              "  if (!files) {\n",
              "    return {\n",
              "      response: {\n",
              "        action: 'complete',\n",
              "      }\n",
              "    };\n",
              "  }\n",
              "\n",
              "  for (const file of files) {\n",
              "    const li = document.createElement('li');\n",
              "    li.append(span(file.name, {fontWeight: 'bold'}));\n",
              "    li.append(span(\n",
              "        `(${file.type || 'n/a'}) - ${file.size} bytes, ` +\n",
              "        `last modified: ${\n",
              "            file.lastModifiedDate ? file.lastModifiedDate.toLocaleDateString() :\n",
              "                                    'n/a'} - `));\n",
              "    const percent = span('0% done');\n",
              "    li.appendChild(percent);\n",
              "\n",
              "    outputElement.appendChild(li);\n",
              "\n",
              "    const fileDataPromise = new Promise((resolve) => {\n",
              "      const reader = new FileReader();\n",
              "      reader.onload = (e) => {\n",
              "        resolve(e.target.result);\n",
              "      };\n",
              "      reader.readAsArrayBuffer(file);\n",
              "    });\n",
              "    // Wait for the data to be ready.\n",
              "    let fileData = yield {\n",
              "      promise: fileDataPromise,\n",
              "      response: {\n",
              "        action: 'continue',\n",
              "      }\n",
              "    };\n",
              "\n",
              "    // Use a chunked sending to avoid message size limits. See b/62115660.\n",
              "    let position = 0;\n",
              "    do {\n",
              "      const length = Math.min(fileData.byteLength - position, MAX_PAYLOAD_SIZE);\n",
              "      const chunk = new Uint8Array(fileData, position, length);\n",
              "      position += length;\n",
              "\n",
              "      const base64 = btoa(String.fromCharCode.apply(null, chunk));\n",
              "      yield {\n",
              "        response: {\n",
              "          action: 'append',\n",
              "          file: file.name,\n",
              "          data: base64,\n",
              "        },\n",
              "      };\n",
              "\n",
              "      let percentDone = fileData.byteLength === 0 ?\n",
              "          100 :\n",
              "          Math.round((position / fileData.byteLength) * 100);\n",
              "      percent.textContent = `${percentDone}% done`;\n",
              "\n",
              "    } while (position < fileData.byteLength);\n",
              "  }\n",
              "\n",
              "  // All done.\n",
              "  yield {\n",
              "    response: {\n",
              "      action: 'complete',\n",
              "    }\n",
              "  };\n",
              "}\n",
              "\n",
              "scope.google = scope.google || {};\n",
              "scope.google.colab = scope.google.colab || {};\n",
              "scope.google.colab._files = {\n",
              "  _uploadFiles,\n",
              "  _uploadFilesContinue,\n",
              "};\n",
              "})(self);\n",
              "</script> "
            ]
          },
          "metadata": {}
        },
        {
          "output_type": "stream",
          "name": "stdout",
          "text": [
            "Saving Dataset_Vivero.csv to Dataset_Vivero (10).csv\n",
            "Archivo cargado: Dataset_Vivero (10).csv\n",
            "   PlantaID      Tipo Altura_cm Ancho_cm Precio  En_stock\n",
            "0         1      Rosa      18,3     42,1    4,7       0.0\n",
            "1         2       NaN      81,8     14,2   20,0       NaN\n",
            "2         3   Tulipán      48,0     18,1   20,3       1.0\n",
            "3         4   Tulipán      68,4     54,9   23,4       1.0\n",
            "4         5  Orquídea     110,3     40,3   26,2       0.0\n"
          ]
        }
      ],
      "source": [
        "from google.colab import files\n",
        "import pandas as pd\n",
        "import io\n",
        "\n",
        "uploaded = files.upload()\n",
        "filename = next(iter(uploaded))\n",
        "\n",
        "df = pd.read_csv(io.BytesIO(uploaded[filename]), sep=';', encoding='latin1')\n",
        "\n",
        "print(f\"Archivo cargado: {filename}\")\n",
        "print(df.head())\n",
        "\n"
      ]
    },
    {
      "cell_type": "code",
      "source": [
        "df.head()"
      ],
      "metadata": {
        "colab": {
          "base_uri": "https://localhost:8080/",
          "height": 206
        },
        "id": "VwsWK7H16ECf",
        "outputId": "3a2035b8-17d7-49d8-91f7-6d1201500492"
      },
      "execution_count": null,
      "outputs": [
        {
          "output_type": "execute_result",
          "data": {
            "text/plain": [
              "   PlantaID      Tipo Altura_cm Ancho_cm Precio  En_stock\n",
              "0         1      Rosa      18,3     42,1    4,7       0.0\n",
              "1         2       NaN      81,8     14,2   20,0       NaN\n",
              "2         3   Tulipán      48,0     18,1   20,3       1.0\n",
              "3         4   Tulipán      68,4     54,9   23,4       1.0\n",
              "4         5  Orquídea     110,3     40,3   26,2       0.0"
            ],
            "text/html": [
              "\n",
              "  <div id=\"df-18ccaf36-a712-4e84-8aea-d4091700369e\" class=\"colab-df-container\">\n",
              "    <div>\n",
              "<style scoped>\n",
              "    .dataframe tbody tr th:only-of-type {\n",
              "        vertical-align: middle;\n",
              "    }\n",
              "\n",
              "    .dataframe tbody tr th {\n",
              "        vertical-align: top;\n",
              "    }\n",
              "\n",
              "    .dataframe thead th {\n",
              "        text-align: right;\n",
              "    }\n",
              "</style>\n",
              "<table border=\"1\" class=\"dataframe\">\n",
              "  <thead>\n",
              "    <tr style=\"text-align: right;\">\n",
              "      <th></th>\n",
              "      <th>PlantaID</th>\n",
              "      <th>Tipo</th>\n",
              "      <th>Altura_cm</th>\n",
              "      <th>Ancho_cm</th>\n",
              "      <th>Precio</th>\n",
              "      <th>En_stock</th>\n",
              "    </tr>\n",
              "  </thead>\n",
              "  <tbody>\n",
              "    <tr>\n",
              "      <th>0</th>\n",
              "      <td>1</td>\n",
              "      <td>Rosa</td>\n",
              "      <td>18,3</td>\n",
              "      <td>42,1</td>\n",
              "      <td>4,7</td>\n",
              "      <td>0.0</td>\n",
              "    </tr>\n",
              "    <tr>\n",
              "      <th>1</th>\n",
              "      <td>2</td>\n",
              "      <td>NaN</td>\n",
              "      <td>81,8</td>\n",
              "      <td>14,2</td>\n",
              "      <td>20,0</td>\n",
              "      <td>NaN</td>\n",
              "    </tr>\n",
              "    <tr>\n",
              "      <th>2</th>\n",
              "      <td>3</td>\n",
              "      <td>Tulipán</td>\n",
              "      <td>48,0</td>\n",
              "      <td>18,1</td>\n",
              "      <td>20,3</td>\n",
              "      <td>1.0</td>\n",
              "    </tr>\n",
              "    <tr>\n",
              "      <th>3</th>\n",
              "      <td>4</td>\n",
              "      <td>Tulipán</td>\n",
              "      <td>68,4</td>\n",
              "      <td>54,9</td>\n",
              "      <td>23,4</td>\n",
              "      <td>1.0</td>\n",
              "    </tr>\n",
              "    <tr>\n",
              "      <th>4</th>\n",
              "      <td>5</td>\n",
              "      <td>Orquídea</td>\n",
              "      <td>110,3</td>\n",
              "      <td>40,3</td>\n",
              "      <td>26,2</td>\n",
              "      <td>0.0</td>\n",
              "    </tr>\n",
              "  </tbody>\n",
              "</table>\n",
              "</div>\n",
              "    <div class=\"colab-df-buttons\">\n",
              "\n",
              "  <div class=\"colab-df-container\">\n",
              "    <button class=\"colab-df-convert\" onclick=\"convertToInteractive('df-18ccaf36-a712-4e84-8aea-d4091700369e')\"\n",
              "            title=\"Convert this dataframe to an interactive table.\"\n",
              "            style=\"display:none;\">\n",
              "\n",
              "  <svg xmlns=\"http://www.w3.org/2000/svg\" height=\"24px\" viewBox=\"0 -960 960 960\">\n",
              "    <path d=\"M120-120v-720h720v720H120Zm60-500h600v-160H180v160Zm220 220h160v-160H400v160Zm0 220h160v-160H400v160ZM180-400h160v-160H180v160Zm440 0h160v-160H620v160ZM180-180h160v-160H180v160Zm440 0h160v-160H620v160Z\"/>\n",
              "  </svg>\n",
              "    </button>\n",
              "\n",
              "  <style>\n",
              "    .colab-df-container {\n",
              "      display:flex;\n",
              "      gap: 12px;\n",
              "    }\n",
              "\n",
              "    .colab-df-convert {\n",
              "      background-color: #E8F0FE;\n",
              "      border: none;\n",
              "      border-radius: 50%;\n",
              "      cursor: pointer;\n",
              "      display: none;\n",
              "      fill: #1967D2;\n",
              "      height: 32px;\n",
              "      padding: 0 0 0 0;\n",
              "      width: 32px;\n",
              "    }\n",
              "\n",
              "    .colab-df-convert:hover {\n",
              "      background-color: #E2EBFA;\n",
              "      box-shadow: 0px 1px 2px rgba(60, 64, 67, 0.3), 0px 1px 3px 1px rgba(60, 64, 67, 0.15);\n",
              "      fill: #174EA6;\n",
              "    }\n",
              "\n",
              "    .colab-df-buttons div {\n",
              "      margin-bottom: 4px;\n",
              "    }\n",
              "\n",
              "    [theme=dark] .colab-df-convert {\n",
              "      background-color: #3B4455;\n",
              "      fill: #D2E3FC;\n",
              "    }\n",
              "\n",
              "    [theme=dark] .colab-df-convert:hover {\n",
              "      background-color: #434B5C;\n",
              "      box-shadow: 0px 1px 3px 1px rgba(0, 0, 0, 0.15);\n",
              "      filter: drop-shadow(0px 1px 2px rgba(0, 0, 0, 0.3));\n",
              "      fill: #FFFFFF;\n",
              "    }\n",
              "  </style>\n",
              "\n",
              "    <script>\n",
              "      const buttonEl =\n",
              "        document.querySelector('#df-18ccaf36-a712-4e84-8aea-d4091700369e button.colab-df-convert');\n",
              "      buttonEl.style.display =\n",
              "        google.colab.kernel.accessAllowed ? 'block' : 'none';\n",
              "\n",
              "      async function convertToInteractive(key) {\n",
              "        const element = document.querySelector('#df-18ccaf36-a712-4e84-8aea-d4091700369e');\n",
              "        const dataTable =\n",
              "          await google.colab.kernel.invokeFunction('convertToInteractive',\n",
              "                                                    [key], {});\n",
              "        if (!dataTable) return;\n",
              "\n",
              "        const docLinkHtml = 'Like what you see? Visit the ' +\n",
              "          '<a target=\"_blank\" href=https://colab.research.google.com/notebooks/data_table.ipynb>data table notebook</a>'\n",
              "          + ' to learn more about interactive tables.';\n",
              "        element.innerHTML = '';\n",
              "        dataTable['output_type'] = 'display_data';\n",
              "        await google.colab.output.renderOutput(dataTable, element);\n",
              "        const docLink = document.createElement('div');\n",
              "        docLink.innerHTML = docLinkHtml;\n",
              "        element.appendChild(docLink);\n",
              "      }\n",
              "    </script>\n",
              "  </div>\n",
              "\n",
              "\n",
              "    <div id=\"df-8c9ddf20-018e-4fed-9417-146365f2d0c9\">\n",
              "      <button class=\"colab-df-quickchart\" onclick=\"quickchart('df-8c9ddf20-018e-4fed-9417-146365f2d0c9')\"\n",
              "                title=\"Suggest charts\"\n",
              "                style=\"display:none;\">\n",
              "\n",
              "<svg xmlns=\"http://www.w3.org/2000/svg\" height=\"24px\"viewBox=\"0 0 24 24\"\n",
              "     width=\"24px\">\n",
              "    <g>\n",
              "        <path d=\"M19 3H5c-1.1 0-2 .9-2 2v14c0 1.1.9 2 2 2h14c1.1 0 2-.9 2-2V5c0-1.1-.9-2-2-2zM9 17H7v-7h2v7zm4 0h-2V7h2v10zm4 0h-2v-4h2v4z\"/>\n",
              "    </g>\n",
              "</svg>\n",
              "      </button>\n",
              "\n",
              "<style>\n",
              "  .colab-df-quickchart {\n",
              "      --bg-color: #E8F0FE;\n",
              "      --fill-color: #1967D2;\n",
              "      --hover-bg-color: #E2EBFA;\n",
              "      --hover-fill-color: #174EA6;\n",
              "      --disabled-fill-color: #AAA;\n",
              "      --disabled-bg-color: #DDD;\n",
              "  }\n",
              "\n",
              "  [theme=dark] .colab-df-quickchart {\n",
              "      --bg-color: #3B4455;\n",
              "      --fill-color: #D2E3FC;\n",
              "      --hover-bg-color: #434B5C;\n",
              "      --hover-fill-color: #FFFFFF;\n",
              "      --disabled-bg-color: #3B4455;\n",
              "      --disabled-fill-color: #666;\n",
              "  }\n",
              "\n",
              "  .colab-df-quickchart {\n",
              "    background-color: var(--bg-color);\n",
              "    border: none;\n",
              "    border-radius: 50%;\n",
              "    cursor: pointer;\n",
              "    display: none;\n",
              "    fill: var(--fill-color);\n",
              "    height: 32px;\n",
              "    padding: 0;\n",
              "    width: 32px;\n",
              "  }\n",
              "\n",
              "  .colab-df-quickchart:hover {\n",
              "    background-color: var(--hover-bg-color);\n",
              "    box-shadow: 0 1px 2px rgba(60, 64, 67, 0.3), 0 1px 3px 1px rgba(60, 64, 67, 0.15);\n",
              "    fill: var(--button-hover-fill-color);\n",
              "  }\n",
              "\n",
              "  .colab-df-quickchart-complete:disabled,\n",
              "  .colab-df-quickchart-complete:disabled:hover {\n",
              "    background-color: var(--disabled-bg-color);\n",
              "    fill: var(--disabled-fill-color);\n",
              "    box-shadow: none;\n",
              "  }\n",
              "\n",
              "  .colab-df-spinner {\n",
              "    border: 2px solid var(--fill-color);\n",
              "    border-color: transparent;\n",
              "    border-bottom-color: var(--fill-color);\n",
              "    animation:\n",
              "      spin 1s steps(1) infinite;\n",
              "  }\n",
              "\n",
              "  @keyframes spin {\n",
              "    0% {\n",
              "      border-color: transparent;\n",
              "      border-bottom-color: var(--fill-color);\n",
              "      border-left-color: var(--fill-color);\n",
              "    }\n",
              "    20% {\n",
              "      border-color: transparent;\n",
              "      border-left-color: var(--fill-color);\n",
              "      border-top-color: var(--fill-color);\n",
              "    }\n",
              "    30% {\n",
              "      border-color: transparent;\n",
              "      border-left-color: var(--fill-color);\n",
              "      border-top-color: var(--fill-color);\n",
              "      border-right-color: var(--fill-color);\n",
              "    }\n",
              "    40% {\n",
              "      border-color: transparent;\n",
              "      border-right-color: var(--fill-color);\n",
              "      border-top-color: var(--fill-color);\n",
              "    }\n",
              "    60% {\n",
              "      border-color: transparent;\n",
              "      border-right-color: var(--fill-color);\n",
              "    }\n",
              "    80% {\n",
              "      border-color: transparent;\n",
              "      border-right-color: var(--fill-color);\n",
              "      border-bottom-color: var(--fill-color);\n",
              "    }\n",
              "    90% {\n",
              "      border-color: transparent;\n",
              "      border-bottom-color: var(--fill-color);\n",
              "    }\n",
              "  }\n",
              "</style>\n",
              "\n",
              "      <script>\n",
              "        async function quickchart(key) {\n",
              "          const quickchartButtonEl =\n",
              "            document.querySelector('#' + key + ' button');\n",
              "          quickchartButtonEl.disabled = true;  // To prevent multiple clicks.\n",
              "          quickchartButtonEl.classList.add('colab-df-spinner');\n",
              "          try {\n",
              "            const charts = await google.colab.kernel.invokeFunction(\n",
              "                'suggestCharts', [key], {});\n",
              "          } catch (error) {\n",
              "            console.error('Error during call to suggestCharts:', error);\n",
              "          }\n",
              "          quickchartButtonEl.classList.remove('colab-df-spinner');\n",
              "          quickchartButtonEl.classList.add('colab-df-quickchart-complete');\n",
              "        }\n",
              "        (() => {\n",
              "          let quickchartButtonEl =\n",
              "            document.querySelector('#df-8c9ddf20-018e-4fed-9417-146365f2d0c9 button');\n",
              "          quickchartButtonEl.style.display =\n",
              "            google.colab.kernel.accessAllowed ? 'block' : 'none';\n",
              "        })();\n",
              "      </script>\n",
              "    </div>\n",
              "\n",
              "    </div>\n",
              "  </div>\n"
            ],
            "application/vnd.google.colaboratory.intrinsic+json": {
              "type": "dataframe",
              "variable_name": "df",
              "summary": "{\n  \"name\": \"df\",\n  \"rows\": 102,\n  \"fields\": [\n    {\n      \"column\": \"PlantaID\",\n      \"properties\": {\n        \"dtype\": \"number\",\n        \"std\": 29,\n        \"min\": 1,\n        \"max\": 100,\n        \"num_unique_values\": 100,\n        \"samples\": [\n          84,\n          54,\n          71\n        ],\n        \"semantic_type\": \"\",\n        \"description\": \"\"\n      }\n    },\n    {\n      \"column\": \"Tipo\",\n      \"properties\": {\n        \"dtype\": \"category\",\n        \"num_unique_values\": 4,\n        \"samples\": [\n          \"Tulip\\u00e1n\",\n          \"Girasol\",\n          \"Rosa\"\n        ],\n        \"semantic_type\": \"\",\n        \"description\": \"\"\n      }\n    },\n    {\n      \"column\": \"Altura_cm\",\n      \"properties\": {\n        \"dtype\": \"string\",\n        \"num_unique_values\": 90,\n        \"samples\": [\n          \"46,6\",\n          \"26,6\",\n          \"91,5\"\n        ],\n        \"semantic_type\": \"\",\n        \"description\": \"\"\n      }\n    },\n    {\n      \"column\": \"Ancho_cm\",\n      \"properties\": {\n        \"dtype\": \"string\",\n        \"num_unique_values\": 92,\n        \"samples\": [\n          \"57,0\",\n          \"14,7\",\n          \"37,8\"\n        ],\n        \"semantic_type\": \"\",\n        \"description\": \"\"\n      }\n    },\n    {\n      \"column\": \"Precio\",\n      \"properties\": {\n        \"dtype\": \"string\",\n        \"num_unique_values\": 83,\n        \"samples\": [\n          \"14,4\",\n          \"4,7\",\n          \"24,1\"\n        ],\n        \"semantic_type\": \"\",\n        \"description\": \"\"\n      }\n    },\n    {\n      \"column\": \"En_stock\",\n      \"properties\": {\n        \"dtype\": \"number\",\n        \"std\": 0.5029325764658605,\n        \"min\": 0.0,\n        \"max\": 1.0,\n        \"num_unique_values\": 2,\n        \"samples\": [\n          1.0,\n          0.0\n        ],\n        \"semantic_type\": \"\",\n        \"description\": \"\"\n      }\n    }\n  ]\n}"
            }
          },
          "metadata": {},
          "execution_count": 36
        }
      ]
    },
    {
      "cell_type": "markdown",
      "source": [
        "# Se logra identificar que hay datos NaN los cuales se tienen que trabajar"
      ],
      "metadata": {
        "id": "1Drw_00wAVk3"
      }
    },
    {
      "cell_type": "code",
      "source": [
        "# Info general y tipos\n",
        "print(df.info())\n",
        "\n",
        "# Valores faltantes por columna\n",
        "print(df.isnull().sum())\n"
      ],
      "metadata": {
        "colab": {
          "base_uri": "https://localhost:8080/"
        },
        "id": "my1lJKnI8UE7",
        "outputId": "5b4e375f-9d7b-4c41-deee-a9fe6aa82a49"
      },
      "execution_count": null,
      "outputs": [
        {
          "output_type": "stream",
          "name": "stdout",
          "text": [
            "<class 'pandas.core.frame.DataFrame'>\n",
            "RangeIndex: 102 entries, 0 to 101\n",
            "Data columns (total 6 columns):\n",
            " #   Column     Non-Null Count  Dtype  \n",
            "---  ------     --------------  -----  \n",
            " 0   PlantaID   102 non-null    int64  \n",
            " 1   Tipo       97 non-null     object \n",
            " 2   Altura_cm  97 non-null     object \n",
            " 3   Ancho_cm   102 non-null    object \n",
            " 4   Precio     98 non-null     object \n",
            " 5   En_stock   85 non-null     float64\n",
            "dtypes: float64(1), int64(1), object(4)\n",
            "memory usage: 4.9+ KB\n",
            "None\n",
            "PlantaID      0\n",
            "Tipo          5\n",
            "Altura_cm     5\n",
            "Ancho_cm      0\n",
            "Precio        4\n",
            "En_stock     17\n",
            "dtype: int64\n"
          ]
        }
      ]
    },
    {
      "cell_type": "markdown",
      "source": [
        "Se identifica que algunas columnas como Altura_cm,Ancho_cm, Precio, se encuentran en tipo objeto, lo cual es un gran problema para el análisis, por ende se necesita cambiar.\n",
        "\n",
        "Otro dato importante es que hay varios nulos los cuales se tienen que trabajar"
      ],
      "metadata": {
        "id": "zTROMujcAwIk"
      }
    },
    {
      "cell_type": "code",
      "source": [
        "cols_to_convert = ['Altura_cm', 'Ancho_cm', 'Precio']\n",
        "\n",
        "for col in cols_to_convert:\n",
        "    df[col] = df[col].astype(str).str.replace(',', '.')\n",
        "    df[col] = pd.to_numeric(df[col], errors='coerce')\n",
        "\n",
        "print(\"Tipos tras conversión:\")\n",
        "print(df.dtypes)\n"
      ],
      "metadata": {
        "colab": {
          "base_uri": "https://localhost:8080/"
        },
        "id": "YreQjYoR9mhy",
        "outputId": "210178e0-13f2-40f3-c8df-41da9b45454a"
      },
      "execution_count": null,
      "outputs": [
        {
          "output_type": "stream",
          "name": "stdout",
          "text": [
            "Tipos tras conversión:\n",
            "PlantaID       int64\n",
            "Tipo          object\n",
            "Altura_cm    float64\n",
            "Ancho_cm     float64\n",
            "Precio       float64\n",
            "En_stock     float64\n",
            "dtype: object\n"
          ]
        }
      ]
    },
    {
      "cell_type": "code",
      "source": [
        "from sklearn.impute import SimpleImputer\n",
        "\n",
        "# Columnas numéricas a imputar\n",
        "num_cols = ['Altura_cm', 'Ancho_cm', 'Precio', 'En_stock']\n",
        "imputer_num = SimpleImputer(strategy='median')\n",
        "df[num_cols] = imputer_num.fit_transform(df[num_cols])\n",
        "\n",
        "# Columna categórica a imputar\n",
        "cat_col = ['Tipo']\n",
        "imputer_cat = SimpleImputer(strategy='most_frequent')\n",
        "df[cat_col] = imputer_cat.fit_transform(df[cat_col])\n",
        "\n",
        "print(\"Valores faltantes después de imputación:\")\n",
        "print(df.isnull().sum())\n"
      ],
      "metadata": {
        "colab": {
          "base_uri": "https://localhost:8080/"
        },
        "id": "PRrwhaAT8chD",
        "outputId": "1b373cd3-d0fe-423d-e946-287de962d9f5"
      },
      "execution_count": null,
      "outputs": [
        {
          "output_type": "stream",
          "name": "stdout",
          "text": [
            "Valores faltantes después de imputación:\n",
            "PlantaID     0\n",
            "Tipo         0\n",
            "Altura_cm    0\n",
            "Ancho_cm     0\n",
            "Precio       0\n",
            "En_stock     0\n",
            "dtype: int64\n"
          ]
        }
      ]
    },
    {
      "cell_type": "markdown",
      "source": [
        "En este caso se decidió de imputar las columnas numericas con la media de cada una, me parece que cuando hablamos de flores, la media nos puede ayudar al proceso de trabajo.\n",
        "\n",
        "En las columnas categóricas, decidí colocar como lo mas frecuente, para asi poder trabajarlo, pero lo mas común es buscar el origen de los datos para intentar completar esos datos vacios."
      ],
      "metadata": {
        "id": "iSwtteCjDPh2"
      }
    },
    {
      "cell_type": "code",
      "source": [
        "print(f\"Filas duplicadas: {df.duplicated().sum()}\")\n",
        "df = df.drop_duplicates()\n",
        "print(f\"Filas después de eliminar duplicados: {len(df)}\")\n"
      ],
      "metadata": {
        "colab": {
          "base_uri": "https://localhost:8080/"
        },
        "id": "mofTqpfZ-Zls",
        "outputId": "46661062-737d-465d-a17d-50da62ea7314"
      },
      "execution_count": null,
      "outputs": [
        {
          "output_type": "stream",
          "name": "stdout",
          "text": [
            "Filas duplicadas: 2\n",
            "Filas después de eliminar duplicados: 100\n"
          ]
        }
      ]
    },
    {
      "cell_type": "markdown",
      "source": [
        "## En este caso se decide eliminar las filas duplicadas"
      ],
      "metadata": {
        "id": "o1We1rD0FiD4"
      }
    },
    {
      "cell_type": "code",
      "source": [
        "# Usando pandas get_dummies para One-Hot Encoding\n",
        "df_encoded = pd.get_dummies(df, columns=['Tipo'], prefix='Tipo')\n",
        "\n",
        "print(df_encoded.head())\n"
      ],
      "metadata": {
        "colab": {
          "base_uri": "https://localhost:8080/"
        },
        "id": "uFnYaK0u-zUz",
        "outputId": "8a4f529f-3df5-4f46-9eea-bf83be45aa6e"
      },
      "execution_count": null,
      "outputs": [
        {
          "output_type": "stream",
          "name": "stdout",
          "text": [
            "   PlantaID  Altura_cm  Ancho_cm  Precio  En_stock  Tipo_Girasol  \\\n",
            "0         1       18.3      42.1     4.7       0.0         False   \n",
            "1         2       81.8      14.2    20.0       0.0         False   \n",
            "2         3       48.0      18.1    20.3       1.0         False   \n",
            "3         4       68.4      54.9    23.4       1.0         False   \n",
            "4         5      110.3      40.3    26.2       0.0         False   \n",
            "\n",
            "   Tipo_Orquídea  Tipo_Rosa  Tipo_Tulipán  \n",
            "0          False       True         False  \n",
            "1           True      False         False  \n",
            "2          False      False          True  \n",
            "3          False      False          True  \n",
            "4           True      False         False  \n"
          ]
        }
      ]
    },
    {
      "cell_type": "markdown",
      "source": [
        "En este paso se aplicó One-Hot Encoding con pandas.get_dummies para transformar la variable categórica Tipo en columnas binarias independientes.\n",
        "Esto permite que el modelo de Machine Learning procese correctamente la información categórica.\n",
        "Cada nueva columna indica con valores booleanos la presencia o ausencia de una categoría específica."
      ],
      "metadata": {
        "id": "_oHVTnK9jq3B"
      }
    },
    {
      "cell_type": "code",
      "source": [
        "from sklearn.preprocessing import StandardScaler\n",
        "\n",
        "# Columnas numéricas a escalar\n",
        "cols_num = ['Altura_cm', 'Ancho_cm', 'Precio', 'En_stock']\n",
        "\n",
        "scaler = StandardScaler()\n",
        "\n",
        "# Ajustar y transformar\n",
        "df[cols_num] = scaler.fit_transform(df[cols_num])\n",
        "\n",
        "# Mostrar resultado\n",
        "print(df.head())\n",
        "print(df[cols_num].describe())\n"
      ],
      "metadata": {
        "colab": {
          "base_uri": "https://localhost:8080/"
        },
        "id": "TvTK6shq_JZS",
        "outputId": "6dcb60d6-97c6-4e70-be05-1c8ca72cad73"
      },
      "execution_count": null,
      "outputs": [
        {
          "output_type": "stream",
          "name": "stdout",
          "text": [
            "   PlantaID      Tipo  Altura_cm  Ancho_cm    Precio  En_stock\n",
            "0         1      Rosa  -1.610158  0.425952 -1.537861 -0.833616\n",
            "1         2  Orquídea   0.487563 -1.485899  0.128518 -0.833616\n",
            "2         3   Tulipán  -0.629019 -1.218651  0.161192  1.199593\n",
            "3         4   Tulipán   0.044895  1.303074  0.498825  1.199593\n",
            "4         5  Orquídea   1.429060  0.302607  0.803783 -0.833616\n",
            "          Altura_cm      Ancho_cm        Precio      En_stock\n",
            "count  1.000000e+02  1.000000e+02  1.000000e+02  1.000000e+02\n",
            "mean   5.895284e-16 -5.195844e-16 -3.774758e-17  8.215650e-17\n",
            "std    1.005038e+00  1.005038e+00  1.005038e+00  1.005038e+00\n",
            "min   -1.696049e+00 -1.753148e+00 -1.668557e+00 -8.336158e-01\n",
            "25%   -8.800850e-01 -8.263448e-01 -7.945251e-01 -8.336158e-01\n",
            "50%    4.489454e-02  1.518517e-01  1.012897e-01 -8.336158e-01\n",
            "75%    9.062817e-01  8.028407e-01  8.119513e-01  1.199593e+00\n",
            "max    1.699947e+00  1.618290e+00  1.729549e+00  1.199593e+00\n"
          ]
        }
      ]
    },
    {
      "cell_type": "markdown",
      "source": [
        "Se aplicó escalamiento estándar (StandardScaler) a las variables numéricas para normalizar su distribución.\n",
        "Este proceso ajusta los datos para que tengan media 0 y desviación estándar 1, evitando que las diferencias de escala influyan en el modelo.\n",
        "Como resultado, todas las variables numéricas quedaron en la misma magnitud y son comparables entre sí.\n"
      ],
      "metadata": {
        "id": "X8IjiIVaj54N"
      }
    },
    {
      "cell_type": "markdown",
      "source": [
        "#Conclusión\n",
        "\n",
        "Con el diagnóstico y tratamiento aplicados, el conjunto de datos quedó libre de valores faltantes, correctamente codificado y con las variables numéricas escaladas.\n",
        "Esto garantiza que todas las características estén en un formato adecuado y comparable, optimizando el rendimiento y la precisión de futuros modelos de Machine Learning."
      ],
      "metadata": {
        "id": "JxClM6GIkUrk"
      }
    }
  ]
}