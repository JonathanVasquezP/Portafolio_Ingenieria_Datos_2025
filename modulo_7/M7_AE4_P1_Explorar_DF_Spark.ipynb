{
  "nbformat": 4,
  "nbformat_minor": 0,
  "metadata": {
    "colab": {
      "provenance": []
    },
    "kernelspec": {
      "name": "python3",
      "display_name": "Python 3"
    },
    "language_info": {
      "name": "python"
    }
  },
  "cells": [
    {
      "cell_type": "markdown",
      "source": [
        "# Explora y consulta un DataFrame con Spark SQL\n",
        "\n",
        "## Contexto\n",
        "Una de las habilidades más importantes para trabajar con Spark SQL es la **exploración de DataFrames** y la realización de **consultas eficientes**, ya sea con métodos de la API o con sentencias SQL.\n",
        "\n",
        "## Consigna\n",
        "A partir de un archivo CSV o JSON provisto por el docente (por ejemplo, datos de empleados o ventas), **carga los datos en un DataFrame**, explora su estructura y realiza al menos **tres consultas relevantes** utilizando Spark SQL.\n",
        "\n",
        "## Paso a Paso\n",
        "1. Lee el archivo CSV o JSON con `spark.read.format().load()`.\n",
        "2. Muestra las primeras filas con `.show()` y analiza su estructura con `.printSchema()` y `.describe()`.\n",
        "3. Registra el DataFrame como vista temporal con `.createOrReplaceTempView()`.\n",
        "4. Ejecuta consultas SQL con `spark.sql()`, por ejemplo:\n",
        "   - Filtrar por condiciones (ej: ventas > 1000)\n",
        "   - Agrupar y calcular promedios\n",
        "   - Ordenar por columnas específicas\n",
        "5. Muestra y comenta los resultados.\n",
        "\n"
      ],
      "metadata": {
        "id": "hjnFKtKtE-UO"
      }
    },
    {
      "cell_type": "code",
      "execution_count": 23,
      "metadata": {
        "id": "LaqS7J4KEzjs"
      },
      "outputs": [],
      "source": [
        "from pyspark.sql import SparkSession\n",
        "\n",
        "# Crear SparkSession\n",
        "spark = SparkSession.builder \\\n",
        "    .appName(\"ExploracionDataFrame\") \\\n",
        "    .getOrCreate()\n"
      ]
    },
    {
      "cell_type": "code",
      "source": [
        "from google.colab import files\n",
        "uploaded = files.upload()  # Te pedirá seleccionar el CSV desde tu PC\n"
      ],
      "metadata": {
        "colab": {
          "base_uri": "https://localhost:8080/",
          "height": 73
        },
        "id": "eJhLfNLcFCso",
        "outputId": "e1111ee3-ace0-43ee-d8b9-a70fcd9a3075"
      },
      "execution_count": 24,
      "outputs": [
        {
          "output_type": "display_data",
          "data": {
            "text/plain": [
              "<IPython.core.display.HTML object>"
            ],
            "text/html": [
              "\n",
              "     <input type=\"file\" id=\"files-2f3888f1-8247-426c-81c2-225ec7daf556\" name=\"files[]\" multiple disabled\n",
              "        style=\"border:none\" />\n",
              "     <output id=\"result-2f3888f1-8247-426c-81c2-225ec7daf556\">\n",
              "      Upload widget is only available when the cell has been executed in the\n",
              "      current browser session. Please rerun this cell to enable.\n",
              "      </output>\n",
              "      <script>// Copyright 2017 Google LLC\n",
              "//\n",
              "// Licensed under the Apache License, Version 2.0 (the \"License\");\n",
              "// you may not use this file except in compliance with the License.\n",
              "// You may obtain a copy of the License at\n",
              "//\n",
              "//      http://www.apache.org/licenses/LICENSE-2.0\n",
              "//\n",
              "// Unless required by applicable law or agreed to in writing, software\n",
              "// distributed under the License is distributed on an \"AS IS\" BASIS,\n",
              "// WITHOUT WARRANTIES OR CONDITIONS OF ANY KIND, either express or implied.\n",
              "// See the License for the specific language governing permissions and\n",
              "// limitations under the License.\n",
              "\n",
              "/**\n",
              " * @fileoverview Helpers for google.colab Python module.\n",
              " */\n",
              "(function(scope) {\n",
              "function span(text, styleAttributes = {}) {\n",
              "  const element = document.createElement('span');\n",
              "  element.textContent = text;\n",
              "  for (const key of Object.keys(styleAttributes)) {\n",
              "    element.style[key] = styleAttributes[key];\n",
              "  }\n",
              "  return element;\n",
              "}\n",
              "\n",
              "// Max number of bytes which will be uploaded at a time.\n",
              "const MAX_PAYLOAD_SIZE = 100 * 1024;\n",
              "\n",
              "function _uploadFiles(inputId, outputId) {\n",
              "  const steps = uploadFilesStep(inputId, outputId);\n",
              "  const outputElement = document.getElementById(outputId);\n",
              "  // Cache steps on the outputElement to make it available for the next call\n",
              "  // to uploadFilesContinue from Python.\n",
              "  outputElement.steps = steps;\n",
              "\n",
              "  return _uploadFilesContinue(outputId);\n",
              "}\n",
              "\n",
              "// This is roughly an async generator (not supported in the browser yet),\n",
              "// where there are multiple asynchronous steps and the Python side is going\n",
              "// to poll for completion of each step.\n",
              "// This uses a Promise to block the python side on completion of each step,\n",
              "// then passes the result of the previous step as the input to the next step.\n",
              "function _uploadFilesContinue(outputId) {\n",
              "  const outputElement = document.getElementById(outputId);\n",
              "  const steps = outputElement.steps;\n",
              "\n",
              "  const next = steps.next(outputElement.lastPromiseValue);\n",
              "  return Promise.resolve(next.value.promise).then((value) => {\n",
              "    // Cache the last promise value to make it available to the next\n",
              "    // step of the generator.\n",
              "    outputElement.lastPromiseValue = value;\n",
              "    return next.value.response;\n",
              "  });\n",
              "}\n",
              "\n",
              "/**\n",
              " * Generator function which is called between each async step of the upload\n",
              " * process.\n",
              " * @param {string} inputId Element ID of the input file picker element.\n",
              " * @param {string} outputId Element ID of the output display.\n",
              " * @return {!Iterable<!Object>} Iterable of next steps.\n",
              " */\n",
              "function* uploadFilesStep(inputId, outputId) {\n",
              "  const inputElement = document.getElementById(inputId);\n",
              "  inputElement.disabled = false;\n",
              "\n",
              "  const outputElement = document.getElementById(outputId);\n",
              "  outputElement.innerHTML = '';\n",
              "\n",
              "  const pickedPromise = new Promise((resolve) => {\n",
              "    inputElement.addEventListener('change', (e) => {\n",
              "      resolve(e.target.files);\n",
              "    });\n",
              "  });\n",
              "\n",
              "  const cancel = document.createElement('button');\n",
              "  inputElement.parentElement.appendChild(cancel);\n",
              "  cancel.textContent = 'Cancel upload';\n",
              "  const cancelPromise = new Promise((resolve) => {\n",
              "    cancel.onclick = () => {\n",
              "      resolve(null);\n",
              "    };\n",
              "  });\n",
              "\n",
              "  // Wait for the user to pick the files.\n",
              "  const files = yield {\n",
              "    promise: Promise.race([pickedPromise, cancelPromise]),\n",
              "    response: {\n",
              "      action: 'starting',\n",
              "    }\n",
              "  };\n",
              "\n",
              "  cancel.remove();\n",
              "\n",
              "  // Disable the input element since further picks are not allowed.\n",
              "  inputElement.disabled = true;\n",
              "\n",
              "  if (!files) {\n",
              "    return {\n",
              "      response: {\n",
              "        action: 'complete',\n",
              "      }\n",
              "    };\n",
              "  }\n",
              "\n",
              "  for (const file of files) {\n",
              "    const li = document.createElement('li');\n",
              "    li.append(span(file.name, {fontWeight: 'bold'}));\n",
              "    li.append(span(\n",
              "        `(${file.type || 'n/a'}) - ${file.size} bytes, ` +\n",
              "        `last modified: ${\n",
              "            file.lastModifiedDate ? file.lastModifiedDate.toLocaleDateString() :\n",
              "                                    'n/a'} - `));\n",
              "    const percent = span('0% done');\n",
              "    li.appendChild(percent);\n",
              "\n",
              "    outputElement.appendChild(li);\n",
              "\n",
              "    const fileDataPromise = new Promise((resolve) => {\n",
              "      const reader = new FileReader();\n",
              "      reader.onload = (e) => {\n",
              "        resolve(e.target.result);\n",
              "      };\n",
              "      reader.readAsArrayBuffer(file);\n",
              "    });\n",
              "    // Wait for the data to be ready.\n",
              "    let fileData = yield {\n",
              "      promise: fileDataPromise,\n",
              "      response: {\n",
              "        action: 'continue',\n",
              "      }\n",
              "    };\n",
              "\n",
              "    // Use a chunked sending to avoid message size limits. See b/62115660.\n",
              "    let position = 0;\n",
              "    do {\n",
              "      const length = Math.min(fileData.byteLength - position, MAX_PAYLOAD_SIZE);\n",
              "      const chunk = new Uint8Array(fileData, position, length);\n",
              "      position += length;\n",
              "\n",
              "      const base64 = btoa(String.fromCharCode.apply(null, chunk));\n",
              "      yield {\n",
              "        response: {\n",
              "          action: 'append',\n",
              "          file: file.name,\n",
              "          data: base64,\n",
              "        },\n",
              "      };\n",
              "\n",
              "      let percentDone = fileData.byteLength === 0 ?\n",
              "          100 :\n",
              "          Math.round((position / fileData.byteLength) * 100);\n",
              "      percent.textContent = `${percentDone}% done`;\n",
              "\n",
              "    } while (position < fileData.byteLength);\n",
              "  }\n",
              "\n",
              "  // All done.\n",
              "  yield {\n",
              "    response: {\n",
              "      action: 'complete',\n",
              "    }\n",
              "  };\n",
              "}\n",
              "\n",
              "scope.google = scope.google || {};\n",
              "scope.google.colab = scope.google.colab || {};\n",
              "scope.google.colab._files = {\n",
              "  _uploadFiles,\n",
              "  _uploadFilesContinue,\n",
              "};\n",
              "})(self);\n",
              "</script> "
            ]
          },
          "metadata": {}
        },
        {
          "output_type": "stream",
          "name": "stdout",
          "text": [
            "Saving 1. datos_agricolas.csv to 1. datos_agricolas (1).csv\n"
          ]
        }
      ]
    },
    {
      "cell_type": "code",
      "source": [
        "df = spark.read.format(\"csv\") \\\n",
        "    .option(\"header\", \"true\") \\\n",
        "    .option(\"inferSchema\", \"true\") \\\n",
        "    .option(\"sep\", \";\") \\\n",
        "    .option(\"encoding\", \"ISO-8859-1\") \\\n",
        "    .load(\"1. datos_agricolas.csv\")\n"
      ],
      "metadata": {
        "id": "_ooBSoicF404"
      },
      "execution_count": 25,
      "outputs": []
    },
    {
      "cell_type": "code",
      "source": [
        "# Renombrar columnas para Spark SQL\n",
        "df = df.withColumnRenamed(\"Año\", \"Ano\") \\\n",
        "       .withColumnRenamed(\"Región\", \"Region\") \\\n",
        "       .withColumnRenamed(\"Producción_Ton\", \"Produccion_Ton\")\n"
      ],
      "metadata": {
        "id": "3EJCS7ifHU5g"
      },
      "execution_count": 26,
      "outputs": []
    },
    {
      "cell_type": "code",
      "source": [
        "print(df.columns)\n",
        "df.show(5)\n"
      ],
      "metadata": {
        "colab": {
          "base_uri": "https://localhost:8080/"
        },
        "id": "ozmlXcEPHiI5",
        "outputId": "4f57c466-9908-4010-f7bc-c11b17572e35"
      },
      "execution_count": 27,
      "outputs": [
        {
          "output_type": "stream",
          "name": "stdout",
          "text": [
            "['Ano', 'Mes', 'Region', 'Cultivo', 'Superficie_Ha', 'Produccion_Ton', 'Precio_Ton', 'Costos_Insumos', 'Ingresos', 'Utilidad']\n",
            "+----+---+------+-------+-------------+--------------+----------+--------------+--------+--------+\n",
            "| Ano|Mes|Region|Cultivo|Superficie_Ha|Produccion_Ton|Precio_Ton|Costos_Insumos|Ingresos|Utilidad|\n",
            "+----+---+------+-------+-------------+--------------+----------+--------------+--------+--------+\n",
            "|2023|  7|   Sur|Manzana|           34|          4583|       378|          5267| 1730770| 1725503|\n",
            "|2024|  5|Centro| Tomate|          253|          3501|       106|          6988|  372681|  365693|\n",
            "|2023|  3|   Sur|   Soja|          430|           716|       249|          9680|  178327|  168647|\n",
            "|2023|  3|   Sur|   Soja|           37|          3074|       241|          2485|  739850|  737365|\n",
            "|2023|  4| Norte|   Maíz|          462|           763|       317|         15713|  242169|  226456|\n",
            "+----+---+------+-------+-------------+--------------+----------+--------------+--------+--------+\n",
            "only showing top 5 rows\n",
            "\n"
          ]
        }
      ]
    },
    {
      "cell_type": "code",
      "source": [
        "# Mostrar la estructura del DataFrame\n",
        "df.printSchema()\n"
      ],
      "metadata": {
        "colab": {
          "base_uri": "https://localhost:8080/"
        },
        "id": "gd9rZtlzIgI_",
        "outputId": "80b4f8fa-88da-41d3-f814-65933b585833"
      },
      "execution_count": 28,
      "outputs": [
        {
          "output_type": "stream",
          "name": "stdout",
          "text": [
            "root\n",
            " |-- Ano: integer (nullable = true)\n",
            " |-- Mes: integer (nullable = true)\n",
            " |-- Region: string (nullable = true)\n",
            " |-- Cultivo: string (nullable = true)\n",
            " |-- Superficie_Ha: integer (nullable = true)\n",
            " |-- Produccion_Ton: integer (nullable = true)\n",
            " |-- Precio_Ton: integer (nullable = true)\n",
            " |-- Costos_Insumos: integer (nullable = true)\n",
            " |-- Ingresos: integer (nullable = true)\n",
            " |-- Utilidad: integer (nullable = true)\n",
            "\n"
          ]
        }
      ]
    },
    {
      "cell_type": "code",
      "source": [
        "df.createOrReplaceTempView(\"agricolas\")\n"
      ],
      "metadata": {
        "id": "6fmXJsTPHjkI"
      },
      "execution_count": 29,
      "outputs": []
    },
    {
      "cell_type": "code",
      "source": [
        "consulta1 = spark.sql(\"\"\"\n",
        "    SELECT Ano, Mes, Region, Cultivo, Produccion_Ton, Ingresos, Utilidad\n",
        "    FROM agricolas\n",
        "    WHERE Produccion_Ton > 4000\n",
        "\"\"\")\n",
        "consulta1.show(5)\n"
      ],
      "metadata": {
        "colab": {
          "base_uri": "https://localhost:8080/"
        },
        "id": "Uy2sKokrHosJ",
        "outputId": "11bbeb6e-f223-40f8-f25b-070f3767369b"
      },
      "execution_count": 30,
      "outputs": [
        {
          "output_type": "stream",
          "name": "stdout",
          "text": [
            "+----+---+------+-------+--------------+--------+--------+\n",
            "| Ano|Mes|Region|Cultivo|Produccion_Ton|Ingresos|Utilidad|\n",
            "+----+---+------+-------+--------------+--------+--------+\n",
            "|2023|  7|   Sur|Manzana|          4583| 1730770| 1725503|\n",
            "|2023| 11|   Sur|Manzana|          4030| 1597291| 1578128|\n",
            "|2023|  2|   Sur|  Trigo|          4312| 1044410| 1033103|\n",
            "|2023|  5|Centro|   Papa|          4438|  981286|  962784|\n",
            "|2024|  2|   Sur|    Uva|          4167| 1325231| 1306189|\n",
            "+----+---+------+-------+--------------+--------+--------+\n",
            "only showing top 5 rows\n",
            "\n"
          ]
        }
      ]
    },
    {
      "cell_type": "code",
      "source": [
        "consulta2 = spark.sql(\"\"\"\n",
        "    SELECT Region, AVG(Ingresos) AS Promedio_Ingresos\n",
        "    FROM agricolas\n",
        "    GROUP BY Region\n",
        "\"\"\")\n",
        "consulta2.show()\n"
      ],
      "metadata": {
        "colab": {
          "base_uri": "https://localhost:8080/"
        },
        "id": "3sJPW7LlHr8R",
        "outputId": "113e9433-7379-413c-f631-e474ee529c77"
      },
      "execution_count": 31,
      "outputs": [
        {
          "output_type": "stream",
          "name": "stdout",
          "text": [
            "+------+-----------------+\n",
            "|Region|Promedio_Ingresos|\n",
            "+------+-----------------+\n",
            "|   Sur|713160.0016611295|\n",
            "| Norte|773226.0250783699|\n",
            "|Centro|701692.3839285715|\n",
            "+------+-----------------+\n",
            "\n"
          ]
        }
      ]
    },
    {
      "cell_type": "code",
      "source": [
        "consulta3 = spark.sql(\"\"\"\n",
        "    SELECT Cultivo, SUM(Utilidad) AS Utilidad_Total\n",
        "    FROM agricolas\n",
        "    GROUP BY Cultivo\n",
        "    ORDER BY Utilidad_Total DESC\n",
        "    LIMIT 5\n",
        "\"\"\")\n",
        "consulta3.show()\n"
      ],
      "metadata": {
        "colab": {
          "base_uri": "https://localhost:8080/"
        },
        "id": "8BaHt7MVHvpo",
        "outputId": "84016610-f1b8-4f4b-f7d6-1734feb03ab6"
      },
      "execution_count": 32,
      "outputs": [
        {
          "output_type": "stream",
          "name": "stdout",
          "text": [
            "+-------+--------------+\n",
            "|Cultivo|Utilidad_Total|\n",
            "+-------+--------------+\n",
            "|Manzana|     206003764|\n",
            "| Tomate|     195542018|\n",
            "|    Uva|     193713685|\n",
            "|   Papa|     190117853|\n",
            "|   Soja|     182046485|\n",
            "+-------+--------------+\n",
            "\n"
          ]
        }
      ]
    },
    {
      "cell_type": "code",
      "source": [],
      "metadata": {
        "id": "Sn9hOxGlH12x"
      },
      "execution_count": 32,
      "outputs": []
    }
  ]
}