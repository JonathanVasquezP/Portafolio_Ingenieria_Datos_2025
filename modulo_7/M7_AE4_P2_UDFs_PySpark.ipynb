{
  "nbformat": 4,
  "nbformat_minor": 0,
  "metadata": {
    "colab": {
      "provenance": []
    },
    "kernelspec": {
      "name": "python3",
      "display_name": "Python 3"
    },
    "language_info": {
      "name": "python"
    }
  },
  "cells": [
    {
      "cell_type": "markdown",
      "source": [
        "# Crear DataFrame y aplicar UDFs en PySpark\n",
        "\n",
        "## Contexto\n",
        "Los UDFs (User Defined Functions) permiten extender SparkSQL para cubrir transformaciones específicas.  \n",
        "Esta actividad te entrena para combinar lógica propia con procesamiento estructurado.\n",
        "\n",
        "## Consigna\n",
        "Crea un DataFrame manualmente en PySpark, define una función personalizada y regístrala como UDF.  \n",
        "Aplica la función sobre una columna del DataFrame.\n",
        "\n",
        "## Paso a Paso\n",
        "\n",
        "1. Crea una lista de tuplas (por ejemplo, nombre y salario).\n",
        "2. Convierte esa lista en un DataFrame usando `spark.createDataFrame()`.\n",
        "3. Define una función en Python (por ejemplo, para categorizar salarios: alto, medio, bajo).\n",
        "4. Regístrala como UDF usando `udf()`.\n",
        "5. Aplícala usando `.withColumn()` o en una consulta SQL.\n",
        "6. Muestra los resultados.\n"
      ],
      "metadata": {
        "id": "BajxpDZUQi7C"
      }
    },
    {
      "cell_type": "code",
      "execution_count": 1,
      "metadata": {
        "id": "tsAgMNQrQiXe"
      },
      "outputs": [],
      "source": [
        "from pyspark.sql import SparkSession\n",
        "\n",
        "# Crear SparkSession\n",
        "spark = SparkSession.builder \\\n",
        "    .appName(\"ExploracionDataFrame\") \\\n",
        "    .getOrCreate()\n"
      ]
    },
    {
      "cell_type": "code",
      "source": [
        "# Lista de tuplas (nombre, salario)\n",
        "datos = [(\"Juan\", 1200), (\"María\", 2500), (\"Pedro\", 800), (\"Ana\", 1800)]\n"
      ],
      "metadata": {
        "id": "K0kaTHFyRigJ"
      },
      "execution_count": 5,
      "outputs": []
    },
    {
      "cell_type": "code",
      "source": [
        "# Crear DataFrame\n",
        "df = spark.createDataFrame(datos, [\"Nombre\", \"Salario\"])\n"
      ],
      "metadata": {
        "id": "DXQNFUQpR9zw"
      },
      "execution_count": 6,
      "outputs": []
    },
    {
      "cell_type": "code",
      "source": [
        "df.show()\n"
      ],
      "metadata": {
        "colab": {
          "base_uri": "https://localhost:8080/"
        },
        "id": "pjSZGK6sSA8i",
        "outputId": "c37ce09f-35df-4da8-a515-e409fc4231f2"
      },
      "execution_count": 7,
      "outputs": [
        {
          "output_type": "stream",
          "name": "stdout",
          "text": [
            "+------+-------+\n",
            "|Nombre|Salario|\n",
            "+------+-------+\n",
            "|  Juan|   1200|\n",
            "| María|   2500|\n",
            "| Pedro|    800|\n",
            "|   Ana|   1800|\n",
            "+------+-------+\n",
            "\n"
          ]
        }
      ]
    },
    {
      "cell_type": "code",
      "source": [
        "def categoria_salario(salario):\n",
        "    if salario < 1000:\n",
        "        return \"Bajo\"\n",
        "    elif salario < 2000:\n",
        "        return \"Medio\"\n",
        "    else:\n",
        "        return \"Alto\"\n"
      ],
      "metadata": {
        "id": "u1w4w8ijSCvI"
      },
      "execution_count": 8,
      "outputs": []
    },
    {
      "cell_type": "code",
      "source": [
        "from pyspark.sql.functions import udf\n",
        "from pyspark.sql.types import StringType\n",
        "\n",
        "# Registrar la función como UDF\n",
        "categoria_udf = udf(categoria_salario, StringType())\n"
      ],
      "metadata": {
        "id": "d7F8IcHnSKH4"
      },
      "execution_count": 9,
      "outputs": []
    },
    {
      "cell_type": "code",
      "source": [
        "df = df.withColumn(\"Categoria\", categoria_udf(df[\"Salario\"]))\n"
      ],
      "metadata": {
        "id": "0UjxhIy1SOlI"
      },
      "execution_count": 10,
      "outputs": []
    },
    {
      "cell_type": "code",
      "source": [
        "df.show()\n"
      ],
      "metadata": {
        "colab": {
          "base_uri": "https://localhost:8080/"
        },
        "id": "GjD2YwtMSSf3",
        "outputId": "14ee4e3c-89b3-4b15-d329-854b07843fd4"
      },
      "execution_count": 11,
      "outputs": [
        {
          "output_type": "stream",
          "name": "stdout",
          "text": [
            "+------+-------+---------+\n",
            "|Nombre|Salario|Categoria|\n",
            "+------+-------+---------+\n",
            "|  Juan|   1200|    Medio|\n",
            "| María|   2500|     Alto|\n",
            "| Pedro|    800|     Bajo|\n",
            "|   Ana|   1800|    Medio|\n",
            "+------+-------+---------+\n",
            "\n"
          ]
        }
      ]
    },
    {
      "cell_type": "code",
      "source": [],
      "metadata": {
        "id": "rZRMpFTjST3w"
      },
      "execution_count": null,
      "outputs": []
    }
  ]
}