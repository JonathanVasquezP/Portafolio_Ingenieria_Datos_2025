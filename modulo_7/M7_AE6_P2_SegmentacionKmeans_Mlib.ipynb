{
  "nbformat": 4,
  "nbformat_minor": 0,
  "metadata": {
    "colab": {
      "provenance": []
    },
    "kernelspec": {
      "name": "python3",
      "display_name": "Python 3"
    },
    "language_info": {
      "name": "python"
    }
  },
  "cells": [
    {
      "cell_type": "markdown",
      "source": [
        "# M7_AE6_P2_ - Segmentación con K-Means en MLlib\n",
        "\n",
        "## Contexto\n",
        "\n",
        "Los algoritmos no supervisados como **K-Means** permiten descubrir patrones en los datos **sin necesidad de etiquetas**. Esta actividad promueve la implementación distribuida de clustering para identificar segmentos de clientes.\n",
        "\n",
        "## Consigna\n",
        "\n",
        "Simula un escenario de segmentación de clientes. Aplica **K-Means** sobre los datos de consumo y evalúa la **cohesión del agrupamiento** utilizando el **Silhouette Score**.\n",
        "\n",
        "## Paso a Paso\n",
        "\n",
        "1. **Generar o cargar un dataset** con al menos 3 variables numéricas:  \n",
        "   - Edad  \n",
        "   - Ingresos  \n",
        "   - Frecuencia de compra  \n",
        "\n",
        "2. **Ensamblar las features** con `VectorAssembler`.  \n",
        "\n",
        "3. **Aplicar el algoritmo K-Means** usando `KMeans().setK(4)`.  \n",
        "\n",
        "4. **Entrenar el modelo** y obtener las predicciones.  \n",
        "\n",
        "5. **Mostrar los clusters** con `.show()` y visualizarlos si es posible.  \n",
        "\n",
        "6. **Calcular el ClusteringEvaluator** usando **Silhouette** como métrica.  \n",
        "\n",
        "7. **Interpretar los resultados**:\n",
        "   - Cohesión de los clusters\n",
        "   - Diferencias entre segmentos\n",
        "   - Posibles insights para estrategias de marketing\n"
      ],
      "metadata": {
        "id": "jr9h-eOuDvJQ"
      }
    },
    {
      "cell_type": "code",
      "execution_count": 1,
      "metadata": {
        "colab": {
          "base_uri": "https://localhost:8080/"
        },
        "id": "vEDUBevGDj9X",
        "outputId": "3004f1f2-e10d-49de-e2c5-e88660040eed"
      },
      "outputs": [
        {
          "output_type": "stream",
          "name": "stdout",
          "text": [
            "   edad  ingresos  frecuencia_compra\n",
            "0    56      4184                  6\n",
            "1    69       364                 16\n",
            "2    46      2868                  3\n",
            "3    32      2327                  4\n",
            "4    60      2995                 19\n"
          ]
        }
      ],
      "source": [
        "import pandas as pd\n",
        "import numpy as np\n",
        "\n",
        "# Fijar semilla para reproducibilidad\n",
        "np.random.seed(42)\n",
        "\n",
        "# Número de clientes\n",
        "n_clientes = 100\n",
        "\n",
        "# Generar datos simulados\n",
        "edad = np.random.randint(18, 70, size=n_clientes)                  # Edad entre 18 y 70\n",
        "ingresos = np.random.randint(300, 5000, size=n_clientes)           # Ingresos mensuales entre 300 y 5000\n",
        "frecuencia_compra = np.random.randint(1, 20, size=n_clientes)      # Frecuencia de compra entre 1 y 20\n",
        "\n",
        "# Crear DataFrame\n",
        "df_clientes = pd.DataFrame({\n",
        "    \"edad\": edad,\n",
        "    \"ingresos\": ingresos,\n",
        "    \"frecuencia_compra\": frecuencia_compra\n",
        "})\n",
        "\n",
        "# Guardar CSV\n",
        "df_clientes.to_csv(\"clientes.csv\", index=False)\n",
        "\n",
        "# Mostrar las primeras filas\n",
        "print(df_clientes.head())\n"
      ]
    },
    {
      "cell_type": "code",
      "source": [
        "df_clientes.info()"
      ],
      "metadata": {
        "colab": {
          "base_uri": "https://localhost:8080/"
        },
        "id": "hPRs0Tt2Dzw3",
        "outputId": "e84c9a38-517f-478a-a47e-68debe1a687d"
      },
      "execution_count": 2,
      "outputs": [
        {
          "output_type": "stream",
          "name": "stdout",
          "text": [
            "<class 'pandas.core.frame.DataFrame'>\n",
            "RangeIndex: 100 entries, 0 to 99\n",
            "Data columns (total 3 columns):\n",
            " #   Column             Non-Null Count  Dtype\n",
            "---  ------             --------------  -----\n",
            " 0   edad               100 non-null    int64\n",
            " 1   ingresos           100 non-null    int64\n",
            " 2   frecuencia_compra  100 non-null    int64\n",
            "dtypes: int64(3)\n",
            "memory usage: 2.5 KB\n"
          ]
        }
      ]
    },
    {
      "cell_type": "code",
      "source": [
        "df_clientes.describe()"
      ],
      "metadata": {
        "colab": {
          "base_uri": "https://localhost:8080/",
          "height": 300
        },
        "id": "xHSpLmf4D7zI",
        "outputId": "53aacac6-af62-4d4f-9bd4-f398e37d6ebd"
      },
      "execution_count": 3,
      "outputs": [
        {
          "output_type": "execute_result",
          "data": {
            "text/plain": [
              "             edad     ingresos  frecuencia_compra\n",
              "count  100.000000   100.000000         100.000000\n",
              "mean    43.350000  2780.260000           9.160000\n",
              "std     14.904663  1295.631913           6.155756\n",
              "min     19.000000   364.000000           1.000000\n",
              "25%     31.750000  1795.000000           3.000000\n",
              "50%     42.000000  2982.500000           8.000000\n",
              "75%     57.000000  3822.750000          16.000000\n",
              "max     69.000000  4959.000000          19.000000"
            ],
            "text/html": [
              "\n",
              "  <div id=\"df-5d1e6824-22df-4091-a2b8-0e98e6bd1dc9\" class=\"colab-df-container\">\n",
              "    <div>\n",
              "<style scoped>\n",
              "    .dataframe tbody tr th:only-of-type {\n",
              "        vertical-align: middle;\n",
              "    }\n",
              "\n",
              "    .dataframe tbody tr th {\n",
              "        vertical-align: top;\n",
              "    }\n",
              "\n",
              "    .dataframe thead th {\n",
              "        text-align: right;\n",
              "    }\n",
              "</style>\n",
              "<table border=\"1\" class=\"dataframe\">\n",
              "  <thead>\n",
              "    <tr style=\"text-align: right;\">\n",
              "      <th></th>\n",
              "      <th>edad</th>\n",
              "      <th>ingresos</th>\n",
              "      <th>frecuencia_compra</th>\n",
              "    </tr>\n",
              "  </thead>\n",
              "  <tbody>\n",
              "    <tr>\n",
              "      <th>count</th>\n",
              "      <td>100.000000</td>\n",
              "      <td>100.000000</td>\n",
              "      <td>100.000000</td>\n",
              "    </tr>\n",
              "    <tr>\n",
              "      <th>mean</th>\n",
              "      <td>43.350000</td>\n",
              "      <td>2780.260000</td>\n",
              "      <td>9.160000</td>\n",
              "    </tr>\n",
              "    <tr>\n",
              "      <th>std</th>\n",
              "      <td>14.904663</td>\n",
              "      <td>1295.631913</td>\n",
              "      <td>6.155756</td>\n",
              "    </tr>\n",
              "    <tr>\n",
              "      <th>min</th>\n",
              "      <td>19.000000</td>\n",
              "      <td>364.000000</td>\n",
              "      <td>1.000000</td>\n",
              "    </tr>\n",
              "    <tr>\n",
              "      <th>25%</th>\n",
              "      <td>31.750000</td>\n",
              "      <td>1795.000000</td>\n",
              "      <td>3.000000</td>\n",
              "    </tr>\n",
              "    <tr>\n",
              "      <th>50%</th>\n",
              "      <td>42.000000</td>\n",
              "      <td>2982.500000</td>\n",
              "      <td>8.000000</td>\n",
              "    </tr>\n",
              "    <tr>\n",
              "      <th>75%</th>\n",
              "      <td>57.000000</td>\n",
              "      <td>3822.750000</td>\n",
              "      <td>16.000000</td>\n",
              "    </tr>\n",
              "    <tr>\n",
              "      <th>max</th>\n",
              "      <td>69.000000</td>\n",
              "      <td>4959.000000</td>\n",
              "      <td>19.000000</td>\n",
              "    </tr>\n",
              "  </tbody>\n",
              "</table>\n",
              "</div>\n",
              "    <div class=\"colab-df-buttons\">\n",
              "\n",
              "  <div class=\"colab-df-container\">\n",
              "    <button class=\"colab-df-convert\" onclick=\"convertToInteractive('df-5d1e6824-22df-4091-a2b8-0e98e6bd1dc9')\"\n",
              "            title=\"Convert this dataframe to an interactive table.\"\n",
              "            style=\"display:none;\">\n",
              "\n",
              "  <svg xmlns=\"http://www.w3.org/2000/svg\" height=\"24px\" viewBox=\"0 -960 960 960\">\n",
              "    <path d=\"M120-120v-720h720v720H120Zm60-500h600v-160H180v160Zm220 220h160v-160H400v160Zm0 220h160v-160H400v160ZM180-400h160v-160H180v160Zm440 0h160v-160H620v160ZM180-180h160v-160H180v160Zm440 0h160v-160H620v160Z\"/>\n",
              "  </svg>\n",
              "    </button>\n",
              "\n",
              "  <style>\n",
              "    .colab-df-container {\n",
              "      display:flex;\n",
              "      gap: 12px;\n",
              "    }\n",
              "\n",
              "    .colab-df-convert {\n",
              "      background-color: #E8F0FE;\n",
              "      border: none;\n",
              "      border-radius: 50%;\n",
              "      cursor: pointer;\n",
              "      display: none;\n",
              "      fill: #1967D2;\n",
              "      height: 32px;\n",
              "      padding: 0 0 0 0;\n",
              "      width: 32px;\n",
              "    }\n",
              "\n",
              "    .colab-df-convert:hover {\n",
              "      background-color: #E2EBFA;\n",
              "      box-shadow: 0px 1px 2px rgba(60, 64, 67, 0.3), 0px 1px 3px 1px rgba(60, 64, 67, 0.15);\n",
              "      fill: #174EA6;\n",
              "    }\n",
              "\n",
              "    .colab-df-buttons div {\n",
              "      margin-bottom: 4px;\n",
              "    }\n",
              "\n",
              "    [theme=dark] .colab-df-convert {\n",
              "      background-color: #3B4455;\n",
              "      fill: #D2E3FC;\n",
              "    }\n",
              "\n",
              "    [theme=dark] .colab-df-convert:hover {\n",
              "      background-color: #434B5C;\n",
              "      box-shadow: 0px 1px 3px 1px rgba(0, 0, 0, 0.15);\n",
              "      filter: drop-shadow(0px 1px 2px rgba(0, 0, 0, 0.3));\n",
              "      fill: #FFFFFF;\n",
              "    }\n",
              "  </style>\n",
              "\n",
              "    <script>\n",
              "      const buttonEl =\n",
              "        document.querySelector('#df-5d1e6824-22df-4091-a2b8-0e98e6bd1dc9 button.colab-df-convert');\n",
              "      buttonEl.style.display =\n",
              "        google.colab.kernel.accessAllowed ? 'block' : 'none';\n",
              "\n",
              "      async function convertToInteractive(key) {\n",
              "        const element = document.querySelector('#df-5d1e6824-22df-4091-a2b8-0e98e6bd1dc9');\n",
              "        const dataTable =\n",
              "          await google.colab.kernel.invokeFunction('convertToInteractive',\n",
              "                                                    [key], {});\n",
              "        if (!dataTable) return;\n",
              "\n",
              "        const docLinkHtml = 'Like what you see? Visit the ' +\n",
              "          '<a target=\"_blank\" href=https://colab.research.google.com/notebooks/data_table.ipynb>data table notebook</a>'\n",
              "          + ' to learn more about interactive tables.';\n",
              "        element.innerHTML = '';\n",
              "        dataTable['output_type'] = 'display_data';\n",
              "        await google.colab.output.renderOutput(dataTable, element);\n",
              "        const docLink = document.createElement('div');\n",
              "        docLink.innerHTML = docLinkHtml;\n",
              "        element.appendChild(docLink);\n",
              "      }\n",
              "    </script>\n",
              "  </div>\n",
              "\n",
              "\n",
              "    <div id=\"df-f0bc357f-d50b-4f83-b714-0a161ed927ae\">\n",
              "      <button class=\"colab-df-quickchart\" onclick=\"quickchart('df-f0bc357f-d50b-4f83-b714-0a161ed927ae')\"\n",
              "                title=\"Suggest charts\"\n",
              "                style=\"display:none;\">\n",
              "\n",
              "<svg xmlns=\"http://www.w3.org/2000/svg\" height=\"24px\"viewBox=\"0 0 24 24\"\n",
              "     width=\"24px\">\n",
              "    <g>\n",
              "        <path d=\"M19 3H5c-1.1 0-2 .9-2 2v14c0 1.1.9 2 2 2h14c1.1 0 2-.9 2-2V5c0-1.1-.9-2-2-2zM9 17H7v-7h2v7zm4 0h-2V7h2v10zm4 0h-2v-4h2v4z\"/>\n",
              "    </g>\n",
              "</svg>\n",
              "      </button>\n",
              "\n",
              "<style>\n",
              "  .colab-df-quickchart {\n",
              "      --bg-color: #E8F0FE;\n",
              "      --fill-color: #1967D2;\n",
              "      --hover-bg-color: #E2EBFA;\n",
              "      --hover-fill-color: #174EA6;\n",
              "      --disabled-fill-color: #AAA;\n",
              "      --disabled-bg-color: #DDD;\n",
              "  }\n",
              "\n",
              "  [theme=dark] .colab-df-quickchart {\n",
              "      --bg-color: #3B4455;\n",
              "      --fill-color: #D2E3FC;\n",
              "      --hover-bg-color: #434B5C;\n",
              "      --hover-fill-color: #FFFFFF;\n",
              "      --disabled-bg-color: #3B4455;\n",
              "      --disabled-fill-color: #666;\n",
              "  }\n",
              "\n",
              "  .colab-df-quickchart {\n",
              "    background-color: var(--bg-color);\n",
              "    border: none;\n",
              "    border-radius: 50%;\n",
              "    cursor: pointer;\n",
              "    display: none;\n",
              "    fill: var(--fill-color);\n",
              "    height: 32px;\n",
              "    padding: 0;\n",
              "    width: 32px;\n",
              "  }\n",
              "\n",
              "  .colab-df-quickchart:hover {\n",
              "    background-color: var(--hover-bg-color);\n",
              "    box-shadow: 0 1px 2px rgba(60, 64, 67, 0.3), 0 1px 3px 1px rgba(60, 64, 67, 0.15);\n",
              "    fill: var(--button-hover-fill-color);\n",
              "  }\n",
              "\n",
              "  .colab-df-quickchart-complete:disabled,\n",
              "  .colab-df-quickchart-complete:disabled:hover {\n",
              "    background-color: var(--disabled-bg-color);\n",
              "    fill: var(--disabled-fill-color);\n",
              "    box-shadow: none;\n",
              "  }\n",
              "\n",
              "  .colab-df-spinner {\n",
              "    border: 2px solid var(--fill-color);\n",
              "    border-color: transparent;\n",
              "    border-bottom-color: var(--fill-color);\n",
              "    animation:\n",
              "      spin 1s steps(1) infinite;\n",
              "  }\n",
              "\n",
              "  @keyframes spin {\n",
              "    0% {\n",
              "      border-color: transparent;\n",
              "      border-bottom-color: var(--fill-color);\n",
              "      border-left-color: var(--fill-color);\n",
              "    }\n",
              "    20% {\n",
              "      border-color: transparent;\n",
              "      border-left-color: var(--fill-color);\n",
              "      border-top-color: var(--fill-color);\n",
              "    }\n",
              "    30% {\n",
              "      border-color: transparent;\n",
              "      border-left-color: var(--fill-color);\n",
              "      border-top-color: var(--fill-color);\n",
              "      border-right-color: var(--fill-color);\n",
              "    }\n",
              "    40% {\n",
              "      border-color: transparent;\n",
              "      border-right-color: var(--fill-color);\n",
              "      border-top-color: var(--fill-color);\n",
              "    }\n",
              "    60% {\n",
              "      border-color: transparent;\n",
              "      border-right-color: var(--fill-color);\n",
              "    }\n",
              "    80% {\n",
              "      border-color: transparent;\n",
              "      border-right-color: var(--fill-color);\n",
              "      border-bottom-color: var(--fill-color);\n",
              "    }\n",
              "    90% {\n",
              "      border-color: transparent;\n",
              "      border-bottom-color: var(--fill-color);\n",
              "    }\n",
              "  }\n",
              "</style>\n",
              "\n",
              "      <script>\n",
              "        async function quickchart(key) {\n",
              "          const quickchartButtonEl =\n",
              "            document.querySelector('#' + key + ' button');\n",
              "          quickchartButtonEl.disabled = true;  // To prevent multiple clicks.\n",
              "          quickchartButtonEl.classList.add('colab-df-spinner');\n",
              "          try {\n",
              "            const charts = await google.colab.kernel.invokeFunction(\n",
              "                'suggestCharts', [key], {});\n",
              "          } catch (error) {\n",
              "            console.error('Error during call to suggestCharts:', error);\n",
              "          }\n",
              "          quickchartButtonEl.classList.remove('colab-df-spinner');\n",
              "          quickchartButtonEl.classList.add('colab-df-quickchart-complete');\n",
              "        }\n",
              "        (() => {\n",
              "          let quickchartButtonEl =\n",
              "            document.querySelector('#df-f0bc357f-d50b-4f83-b714-0a161ed927ae button');\n",
              "          quickchartButtonEl.style.display =\n",
              "            google.colab.kernel.accessAllowed ? 'block' : 'none';\n",
              "        })();\n",
              "      </script>\n",
              "    </div>\n",
              "\n",
              "    </div>\n",
              "  </div>\n"
            ],
            "application/vnd.google.colaboratory.intrinsic+json": {
              "type": "dataframe",
              "summary": "{\n  \"name\": \"df_clientes\",\n  \"rows\": 8,\n  \"fields\": [\n    {\n      \"column\": \"edad\",\n      \"properties\": {\n        \"dtype\": \"number\",\n        \"std\": 27.974144862264055,\n        \"min\": 14.904663360807243,\n        \"max\": 100.0,\n        \"num_unique_values\": 8,\n        \"samples\": [\n          43.35,\n          42.0,\n          100.0\n        ],\n        \"semantic_type\": \"\",\n        \"description\": \"\"\n      }\n    },\n    {\n      \"column\": \"ingresos\",\n      \"properties\": {\n        \"dtype\": \"number\",\n        \"std\": 1687.1813471208168,\n        \"min\": 100.0,\n        \"max\": 4959.0,\n        \"num_unique_values\": 8,\n        \"samples\": [\n          2780.26,\n          2982.5,\n          100.0\n        ],\n        \"semantic_type\": \"\",\n        \"description\": \"\"\n      }\n    },\n    {\n      \"column\": \"frecuencia_compra\",\n      \"properties\": {\n        \"dtype\": \"number\",\n        \"std\": 32.77520480045318,\n        \"min\": 1.0,\n        \"max\": 100.0,\n        \"num_unique_values\": 8,\n        \"samples\": [\n          9.16,\n          8.0,\n          100.0\n        ],\n        \"semantic_type\": \"\",\n        \"description\": \"\"\n      }\n    }\n  ]\n}"
            }
          },
          "metadata": {},
          "execution_count": 3
        }
      ]
    },
    {
      "cell_type": "code",
      "source": [
        "from pyspark.sql import SparkSession\n",
        "from pyspark.ml.feature import VectorAssembler\n",
        "\n",
        "# Crear sesión Spark\n",
        "spark = SparkSession.builder.appName(\"KMeansClientes\").getOrCreate()\n",
        "\n",
        "# Cargar DataFrame de pandas a Spark\n",
        "spark_df = spark.createDataFrame(df_clientes)\n",
        "\n",
        "# Ensamblar las features en una sola columna \"features\"\n",
        "assembler = VectorAssembler(\n",
        "    inputCols=[\"edad\", \"ingresos\", \"frecuencia_compra\"],\n",
        "    outputCol=\"features\"\n",
        ")\n",
        "\n",
        "data = assembler.transform(spark_df)\n",
        "data.select(\"features\").show(5, truncate=False)\n"
      ],
      "metadata": {
        "colab": {
          "base_uri": "https://localhost:8080/"
        },
        "id": "SryvnqC2D_fO",
        "outputId": "7a4fe085-d025-40b3-fe63-307e8ddb6d0e"
      },
      "execution_count": 4,
      "outputs": [
        {
          "output_type": "stream",
          "name": "stdout",
          "text": [
            "+------------------+\n",
            "|features          |\n",
            "+------------------+\n",
            "|[56.0,4184.0,6.0] |\n",
            "|[69.0,364.0,16.0] |\n",
            "|[46.0,2868.0,3.0] |\n",
            "|[32.0,2327.0,4.0] |\n",
            "|[60.0,2995.0,19.0]|\n",
            "+------------------+\n",
            "only showing top 5 rows\n",
            "\n"
          ]
        }
      ]
    },
    {
      "cell_type": "code",
      "source": [
        "from pyspark.ml.clustering import KMeans\n",
        "\n",
        "# Crear el modelo K-Means con 4 clusters\n",
        "kmeans = KMeans(\n",
        "    k=4,                     # Número de clusters\n",
        "    seed=42,                 # Semilla para reproducibilidad\n",
        "    featuresCol=\"features\",  # Columna con las features\n",
        "    predictionCol=\"cluster\"  # Nueva columna donde se asignará el cluster\n",
        ")\n",
        "\n",
        "# Entrenar el modelo\n",
        "modelo = kmeans.fit(data)\n",
        "\n",
        "# Obtener predicciones\n",
        "predicciones = modelo.transform(data)\n",
        "\n",
        "# Mostrar algunos resultados\n",
        "predicciones.select(\"edad\", \"ingresos\", \"frecuencia_compra\", \"cluster\").show(10)\n"
      ],
      "metadata": {
        "colab": {
          "base_uri": "https://localhost:8080/"
        },
        "id": "4AXHLv34Ffqj",
        "outputId": "8cd1350a-9217-40b0-d324-96cd7b47fff6"
      },
      "execution_count": 5,
      "outputs": [
        {
          "output_type": "stream",
          "name": "stdout",
          "text": [
            "+----+--------+-----------------+-------+\n",
            "|edad|ingresos|frecuencia_compra|cluster|\n",
            "+----+--------+-----------------+-------+\n",
            "|  56|    4184|                6|      0|\n",
            "|  69|     364|               16|      1|\n",
            "|  46|    2868|                3|      2|\n",
            "|  32|    2327|                4|      3|\n",
            "|  60|    2995|               19|      2|\n",
            "|  25|    1795|                3|      3|\n",
            "|  38|     691|               19|      1|\n",
            "|  56|    4814|                7|      0|\n",
            "|  36|    4774|                9|      0|\n",
            "|  40|    3861|                1|      0|\n",
            "+----+--------+-----------------+-------+\n",
            "only showing top 10 rows\n",
            "\n"
          ]
        }
      ]
    },
    {
      "cell_type": "code",
      "source": [
        "from pyspark.ml.evaluation import ClusteringEvaluator\n",
        "\n",
        "# Crear evaluador usando Silhouette con distancia euclidiana\n",
        "evaluator = ClusteringEvaluator(\n",
        "    featuresCol=\"features\",\n",
        "    predictionCol=\"cluster\",\n",
        "    metricName=\"silhouette\",\n",
        "    distanceMeasure=\"squaredEuclidean\"\n",
        ")\n",
        "\n",
        "# Calcular el Silhouette Score\n",
        "silhouette = evaluator.evaluate(predicciones)\n",
        "print(f\"Silhouette Score: {silhouette}\")\n"
      ],
      "metadata": {
        "colab": {
          "base_uri": "https://localhost:8080/"
        },
        "id": "YMJl9MwAGJc9",
        "outputId": "5513a407-78ce-4ecf-ec7e-953604f1ab6b"
      },
      "execution_count": 6,
      "outputs": [
        {
          "output_type": "stream",
          "name": "stdout",
          "text": [
            "Silhouette Score: 0.7424865836618426\n"
          ]
        }
      ]
    },
    {
      "cell_type": "code",
      "source": [
        "predicciones.groupBy(\"cluster\").count().show()\n"
      ],
      "metadata": {
        "colab": {
          "base_uri": "https://localhost:8080/"
        },
        "id": "m9jKoYjfGgPK",
        "outputId": "e21ad274-3810-433f-840c-665cb21bf0a1"
      },
      "execution_count": 7,
      "outputs": [
        {
          "output_type": "stream",
          "name": "stdout",
          "text": [
            "+-------+-----+\n",
            "|cluster|count|\n",
            "+-------+-----+\n",
            "|      1|   19|\n",
            "|      3|   27|\n",
            "|      2|   29|\n",
            "|      0|   25|\n",
            "+-------+-----+\n",
            "\n"
          ]
        }
      ]
    },
    {
      "cell_type": "code",
      "source": [
        "predicciones.groupBy(\"cluster\").avg(\"edad\", \"ingresos\", \"frecuencia_compra\").show()\n"
      ],
      "metadata": {
        "colab": {
          "base_uri": "https://localhost:8080/"
        },
        "id": "uhZJ2wEjGht9",
        "outputId": "13b5ddbf-5176-4eed-9f3c-3f055a5da2ec"
      },
      "execution_count": 8,
      "outputs": [
        {
          "output_type": "stream",
          "name": "stdout",
          "text": [
            "+-------+------------------+------------------+----------------------+\n",
            "|cluster|         avg(edad)|     avg(ingresos)|avg(frecuencia_compra)|\n",
            "+-------+------------------+------------------+----------------------+\n",
            "|      1| 46.73684210526316| 891.9473684210526|    10.263157894736842|\n",
            "|      3|39.148148148148145|2045.8148148148148|      9.88888888888889|\n",
            "|      2| 44.48275862068966| 3309.551724137931|     7.896551724137931|\n",
            "|      0|              44.0|            4394.6|                   9.0|\n",
            "+-------+------------------+------------------+----------------------+\n",
            "\n"
          ]
        }
      ]
    },
    {
      "cell_type": "code",
      "source": [
        "import matplotlib.pyplot as plt\n",
        "\n",
        "# Convertir Spark DataFrame a Pandas\n",
        "pred_pd = predicciones.select(\"ingresos\", \"frecuencia_compra\", \"cluster\").toPandas()\n",
        "\n",
        "# Colores para cada cluster\n",
        "colors = ['red', 'blue', 'green', 'orange']\n",
        "\n",
        "# Graficar cada cluster\n",
        "plt.figure(figsize=(10,7))\n",
        "for cluster in pred_pd['cluster'].unique():\n",
        "    subset = pred_pd[pred_pd['cluster'] == cluster]\n",
        "    plt.scatter(subset['ingresos'], subset['frecuencia_compra'],\n",
        "                s=50, c=colors[cluster], label=f'Cluster {cluster}', alpha=0.6)\n",
        "\n",
        "# Etiquetas y título\n",
        "plt.xlabel('Ingresos')\n",
        "plt.ylabel('Frecuencia de Compra')\n",
        "plt.title('Clusters de Clientes (Ingresos vs Frecuencia)')\n",
        "plt.legend()\n",
        "plt.show()\n"
      ],
      "metadata": {
        "colab": {
          "base_uri": "https://localhost:8080/",
          "height": 559
        },
        "id": "rwnx7xMBMbwL",
        "outputId": "05a4860f-52b7-41d0-d584-195648590fc4"
      },
      "execution_count": 10,
      "outputs": [
        {
          "output_type": "display_data",
          "data": {
            "text/plain": [
              "<Figure size 1000x700 with 1 Axes>"
            ],
            "image/png": "[encoded data removed]"
          },
          "metadata": {}
        }
      ]
    },
    {
      "cell_type": "markdown",
      "source": [
        "Insights\n",
        "\n",
        "Cluster 0: Clientes de alto poder adquisitivo. Podrían recibir ofertas premium o productos exclusivos.\n",
        "\n",
        "Cluster 1: Clientes frecuentes pero con ingresos bajos. Estrategia: descuentos, packs económicos o fidelización.\n",
        "\n",
        "Cluster 2: Clientes estables y con ingresos medios-altos. Estrategia: promociones selectivas o productos complementarios.\n",
        "\n",
        "Cluster 3: Jóvenes activos con ingresos medios. Estrategia: campañas dinámicas, marketing digital o combos atractivos."
      ],
      "metadata": {
        "id": "Khf-rB65HDGm"
      }
    }
  ]
}