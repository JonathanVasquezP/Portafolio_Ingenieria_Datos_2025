{
  "nbformat": 4,
  "nbformat_minor": 0,
  "metadata": {
    "colab": {
      "provenance": []
    },
    "kernelspec": {
      "name": "python3",
      "display_name": "Python 3"
    },
    "language_info": {
      "name": "python"
    }
  },
  "cells": [
    {
      "cell_type": "markdown",
      "source": [
        "# Lenguaje Python\n",
        "\n",
        "Consigna:  construye un programa que simule una calculadora basica, pero cada operacion (suma, resta, multiplicacion, division) debe estar definida como una funcion distinta, luego crear una funcion principal que le pregunte al usuario que operacion desea realizar y la ejecute\n"
      ],
      "metadata": {
        "id": "sLjcoiHhVA6w"
      }
    },
    {
      "cell_type": "code",
      "source": [
        "def sumar(a, b):\n",
        "    return a + b\n",
        "\n",
        "def restar(a, b):\n",
        "    return a - b\n",
        "\n",
        "def multiplicar(a, b):\n",
        "    return a * b\n",
        "\n",
        "def dividir(a, b):\n",
        "    if b == 0:\n",
        "        return \"❌ Error: No se puede dividir entre cero.\"\n",
        "    return a / b\n",
        "\n",
        "def calculadora():\n",
        "    print(\"🔢 Calculadora Básica\")\n",
        "    print(\"Operaciones disponibles:\")\n",
        "    print(\"1. Sumar\")\n",
        "    print(\"2. Restar\")\n",
        "    print(\"3. Multiplicar\")\n",
        "    print(\"4. Dividir\")\n",
        "\n",
        "    opcion = input(\"Selecciona una operación (1/2/3/4): \")\n",
        "\n",
        "    try:\n",
        "        num1 = float(input(\"Ingresa el primer número: \"))\n",
        "        num2 = float(input(\"Ingresa el segundo número: \"))\n",
        "    except ValueError:\n",
        "        print(\"❌ Error: Debes ingresar números válidos.\")\n",
        "        return\n",
        "\n",
        "    if opcion == \"1\":\n",
        "        resultado = sumar(num1, num2)\n",
        "    elif opcion == \"2\":\n",
        "        resultado = restar(num1, num2)\n",
        "    elif opcion == \"3\":\n",
        "        resultado = multiplicar(num1, num2)\n",
        "    elif opcion == \"4\":\n",
        "        resultado = dividir(num1, num2)\n",
        "    else:\n",
        "        print(\"❌ Opción inválida.\")\n",
        "        return\n",
        "\n",
        "    print(f\"✅ Resultado: {resultado}\")\n",
        "\n",
        "calculadora()\n"
      ],
      "metadata": {
        "colab": {
          "base_uri": "https://localhost:8080/"
        },
        "id": "Auq3X7TBVCja",
        "outputId": "9f0ccc75-d9a8-4037-c52a-cefba9bd720e"
      },
      "execution_count": 1,
      "outputs": [
        {
          "output_type": "stream",
          "name": "stdout",
          "text": [
            "🔢 Calculadora Básica\n",
            "Operaciones disponibles:\n",
            "1. Sumar\n",
            "2. Restar\n",
            "3. Multiplicar\n",
            "4. Dividir\n",
            "Selecciona una operación (1/2/3/4): 1\n",
            "Ingresa el primer número: 10\n",
            "Ingresa el segundo número: 20\n",
            "✅ Resultado: 30.0\n"
          ]
        }
      ]
    }
  ]
}