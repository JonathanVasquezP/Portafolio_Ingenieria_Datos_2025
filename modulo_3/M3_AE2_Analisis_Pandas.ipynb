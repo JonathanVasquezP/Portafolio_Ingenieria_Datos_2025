{
  "nbformat": 4,
  "nbformat_minor": 0,
  "metadata": {
    "colab": {
      "provenance": []
    },
    "kernelspec": {
      "name": "python3",
      "display_name": "Python 3"
    },
    "language_info": {
      "name": "python"
    }
  },
  "cells": [
    {
      "cell_type": "markdown",
      "source": [
        "### 🧠 Análisis exploratorio con pandas\n",
        "\n",
        "**Contexto**  \n",
        "El objetivo es familiarizarse con la estructura de un DataFrame y aplicar métodos básicos de exploración y resumen de datos para obtener una primera comprensión de su contenido.\n",
        "\n",
        "**Consigna**  \n",
        "Carga un archivo CSV utilizando Pandas y explora su contenido mediante los métodos `head()`, `info()` y `describe()`. Luego, extrae las estadísticas clave de las columnas numéricas y verifica si existen valores nulos.\n",
        "\n",
        "**Paso a paso**  \n",
        "\n",
        "1. Importa la librería **Pandas** como `pd`.  \n",
        "2. Lee el archivo csv con `pd.read_csv()` y asígnalo a una variable llamada `df`.  \n",
        "3. Utiliza los siguientes métodos para explorar los datos:\n",
        "   - `df.head()` para visualizar los primeros registros.  \n",
        "   - `df.info()` para revisar la estructura y los tipos de datos.  \n",
        "   - `df.describe()` para ver estadísticas básicas de las columnas numéricas.  \n",
        "4. Aplica `df.isnull().sum()` para detectar valores nulos en el conjunto de datos.  \n",
        "5. Usa `df.mean()`, `df.median()` y `df.std()` para obtener medidas adicionales como la media, la mediana y la desviación estándar.  \n",
        "6. Finalmente, comparte una breve interpretación de lo que observaste en el análisis.\n"
      ],
      "metadata": {
        "id": "uBM7Hvf9X8SG"
      }
    },
    {
      "cell_type": "code",
      "execution_count": 2,
      "metadata": {
        "colab": {
          "base_uri": "https://localhost:8080/"
        },
        "id": "yMq_gtFwX7FD",
        "outputId": "c69ea1d5-e743-4975-b7fa-5d6fbf63ee74"
      },
      "outputs": [
        {
          "output_type": "stream",
          "name": "stdout",
          "text": [
            "Primeros registros:\n",
            "   survived  pclass     sex   age  sibsp  parch     fare embarked  class  \\\n",
            "0         0       3    male  22.0      1      0   7.2500        S  Third   \n",
            "1         1       1  female  38.0      1      0  71.2833        C  First   \n",
            "2         1       3  female  26.0      0      0   7.9250        S  Third   \n",
            "3         1       1  female  35.0      1      0  53.1000        S  First   \n",
            "4         0       3    male  35.0      0      0   8.0500        S  Third   \n",
            "\n",
            "     who  adult_male deck  embark_town alive  alone  \n",
            "0    man        True  NaN  Southampton    no  False  \n",
            "1  woman       False    C    Cherbourg   yes  False  \n",
            "2  woman       False  NaN  Southampton   yes   True  \n",
            "3  woman       False    C  Southampton   yes  False  \n",
            "4    man        True  NaN  Southampton    no   True  \n",
            "\n",
            "Información general:\n",
            "<class 'pandas.core.frame.DataFrame'>\n",
            "RangeIndex: 891 entries, 0 to 890\n",
            "Data columns (total 15 columns):\n",
            " #   Column       Non-Null Count  Dtype   \n",
            "---  ------       --------------  -----   \n",
            " 0   survived     891 non-null    int64   \n",
            " 1   pclass       891 non-null    int64   \n",
            " 2   sex          891 non-null    object  \n",
            " 3   age          714 non-null    float64 \n",
            " 4   sibsp        891 non-null    int64   \n",
            " 5   parch        891 non-null    int64   \n",
            " 6   fare         891 non-null    float64 \n",
            " 7   embarked     889 non-null    object  \n",
            " 8   class        891 non-null    category\n",
            " 9   who          891 non-null    object  \n",
            " 10  adult_male   891 non-null    bool    \n",
            " 11  deck         203 non-null    category\n",
            " 12  embark_town  889 non-null    object  \n",
            " 13  alive        891 non-null    object  \n",
            " 14  alone        891 non-null    bool    \n",
            "dtypes: bool(2), category(2), float64(2), int64(4), object(5)\n",
            "memory usage: 80.7+ KB\n",
            "None\n",
            "\n",
            "Estadísticas descriptivas:\n",
            "         survived      pclass         age       sibsp       parch        fare\n",
            "count  891.000000  891.000000  714.000000  891.000000  891.000000  891.000000\n",
            "mean     0.383838    2.308642   29.699118    0.523008    0.381594   32.204208\n",
            "std      0.486592    0.836071   14.526497    1.102743    0.806057   49.693429\n",
            "min      0.000000    1.000000    0.420000    0.000000    0.000000    0.000000\n",
            "25%      0.000000    2.000000   20.125000    0.000000    0.000000    7.910400\n",
            "50%      0.000000    3.000000   28.000000    0.000000    0.000000   14.454200\n",
            "75%      1.000000    3.000000   38.000000    1.000000    0.000000   31.000000\n",
            "max      1.000000    3.000000   80.000000    8.000000    6.000000  512.329200\n",
            "\n",
            "Valores nulos por columna:\n",
            "survived         0\n",
            "pclass           0\n",
            "sex              0\n",
            "age            177\n",
            "sibsp            0\n",
            "parch            0\n",
            "fare             0\n",
            "embarked         2\n",
            "class            0\n",
            "who              0\n",
            "adult_male       0\n",
            "deck           688\n",
            "embark_town      2\n",
            "alive            0\n",
            "alone            0\n",
            "dtype: int64\n",
            "\n",
            "Media de columnas numéricas:\n",
            "survived       0.383838\n",
            "pclass         2.308642\n",
            "age           29.699118\n",
            "sibsp          0.523008\n",
            "parch          0.381594\n",
            "fare          32.204208\n",
            "adult_male     0.602694\n",
            "alone          0.602694\n",
            "dtype: float64\n",
            "\n",
            "Mediana de columnas numéricas:\n",
            "survived       0.0000\n",
            "pclass         3.0000\n",
            "age           28.0000\n",
            "sibsp          0.0000\n",
            "parch          0.0000\n",
            "fare          14.4542\n",
            "adult_male     1.0000\n",
            "alone          1.0000\n",
            "dtype: float64\n",
            "\n",
            "Desviación estándar de columnas numéricas:\n",
            "survived       0.486592\n",
            "pclass         0.836071\n",
            "age           14.526497\n",
            "sibsp          1.102743\n",
            "parch          0.806057\n",
            "fare          49.693429\n",
            "adult_male     0.489615\n",
            "alone          0.489615\n",
            "dtype: float64\n",
            "\n",
            "Interpretación breve:\n",
            "- El dataset contiene datos de pasajeros con características como edad, tarifa y clase.\n",
            "- Se identificaron valores nulos principalmente en 'age', 'deck' y 'embark_town'.\n",
            "- Las estadísticas muestran la distribución y dispersión de las variables numéricas.\n",
            "- Esta exploración inicial ayuda a detectar datos faltantes y comprender la estructura general del dataset.\n",
            "\n"
          ]
        }
      ],
      "source": [
        "import pandas as pd\n",
        "import seaborn as sns\n",
        "\n",
        "# Cargar dataset Titanic desde seaborn\n",
        "df = sns.load_dataset('titanic')\n",
        "\n",
        "# Mostrar primeros registros\n",
        "print(\"Primeros registros:\")\n",
        "print(df.head())\n",
        "\n",
        "# Mostrar info general del DataFrame\n",
        "print(\"\\nInformación general:\")\n",
        "print(df.info())\n",
        "\n",
        "# Estadísticas descriptivas\n",
        "print(\"\\nEstadísticas descriptivas:\")\n",
        "print(df.describe())\n",
        "\n",
        "# Valores nulos por columna\n",
        "print(\"\\nValores nulos por columna:\")\n",
        "print(df.isnull().sum())\n",
        "\n",
        "# Medidas estadísticas adicionales\n",
        "print(\"\\nMedia de columnas numéricas:\")\n",
        "print(df.mean(numeric_only=True))\n",
        "\n",
        "print(\"\\nMediana de columnas numéricas:\")\n",
        "print(df.median(numeric_only=True))\n",
        "\n",
        "print(\"\\nDesviación estándar de columnas numéricas:\")\n",
        "print(df.std(numeric_only=True))\n",
        "\n",
        "# Breve interpretación\n",
        "print(\"\"\"\n",
        "Interpretación breve:\n",
        "- El dataset contiene datos de pasajeros con características como edad, tarifa y clase.\n",
        "- Se identificaron valores nulos principalmente en 'age', 'deck' y 'embark_town'.\n",
        "- Las estadísticas muestran la distribución y dispersión de las variables numéricas.\n",
        "- Esta exploración inicial ayuda a detectar datos faltantes y comprender la estructura general del dataset.\n",
        "\"\"\")\n"
      ]
    },
    {
      "cell_type": "markdown",
      "source": [
        "### Práctica con Python\n",
        "\n",
        "**Paso a paso**\n",
        "\n",
        "1. Abre tu entorno de trabajo en Colab.\n",
        "\n",
        "2. Escribe un programa que:\n",
        "\n",
        "   - Solicite al usuario su nombre y edad.\n",
        "\n",
        "   - Use una estructura condicional (`if`) para verificar si es mayor o menor de edad.\n",
        "\n",
        "   - Imprima un mensaje de saludo que incluya el nombre y la condición (mayor o menor).\n",
        "\n",
        "3. Pruébalo con diferentes edades para verificar que funciona correctamente.\n",
        "\n",
        "4. Agrega una función llamada `es_mayor()` que reciba la edad y retorne `True` o `False`.\n"
      ],
      "metadata": {
        "id": "gBewpRyXZdax"
      }
    },
    {
      "cell_type": "code",
      "source": [
        "def es_mayor(edad):\n",
        "    \"\"\"Función que retorna True si la edad es mayor o igual a 18, False en caso contrario.\"\"\"\n",
        "    return edad >= 18\n",
        "\n",
        "# Solicitar datos al usuario\n",
        "nombre = input(\"Ingresa tu nombre: \")\n",
        "edad = int(input(\"Ingresa tu edad: \"))\n",
        "\n",
        "# Verificar si es mayor o menor usando la función es_mayor\n",
        "if es_mayor(edad):\n",
        "    condicion = \"mayor de edad\"\n",
        "else:\n",
        "    condicion = \"menor de edad\"\n",
        "\n",
        "# Imprimir mensaje de saludo\n",
        "print(f\"Hola, {nombre}. Eres {condicion}.\")\n"
      ],
      "metadata": {
        "colab": {
          "base_uri": "https://localhost:8080/"
        },
        "id": "Y4hfQBsZZbvg",
        "outputId": "876d0d5c-893a-42fc-cc06-069f5e1390f9"
      },
      "execution_count": 3,
      "outputs": [
        {
          "output_type": "stream",
          "name": "stdout",
          "text": [
            "Ingresa tu nombre: Jonathan\n",
            "Ingresa tu edad: 31\n",
            "Hola, Jonathan. Eres mayor de edad.\n"
          ]
        }
      ]
    },
    {
      "cell_type": "code",
      "source": [],
      "metadata": {
        "id": "Ils721D9ZkGY"
      },
      "execution_count": null,
      "outputs": []
    }
  ]
}