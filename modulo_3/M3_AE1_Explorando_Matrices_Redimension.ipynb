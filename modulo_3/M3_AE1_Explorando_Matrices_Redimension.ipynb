{
  "nbformat": 4,
  "nbformat_minor": 0,
  "metadata": {
    "colab": {
      "provenance": []
    },
    "kernelspec": {
      "name": "python3",
      "display_name": "Python 3"
    },
    "language_info": {
      "name": "python"
    }
  },
  "cells": [
    {
      "cell_type": "markdown",
      "source": [
        "# 🔍 Explorando matrices y operaciones básicas\n",
        "\n",
        "## 📘 Contexto  \n",
        "El propósito de esta actividad es poner en práctica la creación y manipulación de matrices en NumPy, así como la aplicación de operaciones básicas y la comprensión del comportamiento de la indexación.\n",
        "\n",
        "## ✅ Consigna  \n",
        "Crea una matriz 3×3 utilizando `np.array()` a partir de estas listas. Luego, aplica operaciones matemáticas básicas (suma, resta y multiplicación por un escalar) y realiza una selección condicional de elementos mayores a cinco. Finalmente, analiza si el resultado de una asignación es una copia o una referencia.\n",
        "\n",
        "## 🧭 Paso a paso  \n",
        "\n",
        "1. Importa la librería **NumPy** como `np`.  \n",
        "2. Crea una matriz `A` de 3×3 con números enteros del 1 al 9.  \n",
        "3. Realiza las siguientes operaciones:  \n",
        "   - Suma 10 a cada elemento de la matriz.  \n",
        "   - Multiplica la matriz por 2.  \n",
        "   - Extrae los elementos mayores a 5 utilizando selección condicional.  \n",
        "4. Asigna la matriz a una nueva variable: `B = A`. Modifica el valor de `B`.  \n",
        "   - ¿Cambió también `A`?  \n",
        "   - Ahora usa `B = A.copy()` y repite la modificación. ¿Qué ocurrió con `A` esta vez?\n"
      ],
      "metadata": {
        "id": "a3l53G4KC6y3"
      }
    },
    {
      "cell_type": "code",
      "execution_count": 1,
      "metadata": {
        "id": "gvYQJgq9C4g2",
        "colab": {
          "base_uri": "https://localhost:8080/"
        },
        "outputId": "f667bbea-6486-413e-eb5f-8dd8b8476538"
      },
      "outputs": [
        {
          "output_type": "stream",
          "name": "stdout",
          "text": [
            "Matriz original A:\n",
            "[[1 2 3]\n",
            " [4 5 6]\n",
            " [7 8 9]]\n",
            "\n",
            "A + 10:\n",
            "[[11 12 13]\n",
            " [14 15 16]\n",
            " [17 18 19]]\n",
            "\n",
            "A * 2:\n",
            "[[ 2  4  6]\n",
            " [ 8 10 12]\n",
            " [14 16 18]]\n",
            "\n",
            "Elementos mayores a 5:\n",
            "[6 7 8 9]\n",
            "\n",
            "Después de modificar B (referencia):\n",
            "B:\n",
            "[[100   2   3]\n",
            " [  4   5   6]\n",
            " [  7   8   9]]\n",
            "A también se modifica:\n",
            "[[100   2   3]\n",
            " [  4   5   6]\n",
            " [  7   8   9]]\n",
            "\n",
            "Después de modificar B (copia):\n",
            "B:\n",
            "[[200   2   3]\n",
            " [  4   5   6]\n",
            " [  7   8   9]]\n",
            "A no se modifica:\n",
            "[[1 2 3]\n",
            " [4 5 6]\n",
            " [7 8 9]]\n"
          ]
        }
      ],
      "source": [
        "import numpy as np\n",
        "\n",
        "# Crear la matriz A de 3x3 con números del 1 al 9\n",
        "A = np.array([[1, 2, 3],\n",
        "              [4, 5, 6],\n",
        "              [7, 8, 9]])\n",
        "\n",
        "print(\"Matriz original A:\")\n",
        "print(A)\n",
        "\n",
        "# Sumar 10 a cada elemento\n",
        "A_suma = A + 10\n",
        "print(\"\\nA + 10:\")\n",
        "print(A_suma)\n",
        "\n",
        "# Multiplicar la matriz por 2\n",
        "A_multi = A * 2\n",
        "print(\"\\nA * 2:\")\n",
        "print(A_multi)\n",
        "\n",
        "# Selección condicional: elementos mayores a 5\n",
        "condicion = A > 5\n",
        "print(\"\\nElementos mayores a 5:\")\n",
        "print(A[condicion])\n",
        "\n",
        "# Asignación directa (referencia)\n",
        "B = A\n",
        "B[0, 0] = 100\n",
        "print(\"\\nDespués de modificar B (referencia):\")\n",
        "print(\"B:\")\n",
        "print(B)\n",
        "print(\"A también se modifica:\")\n",
        "print(A)\n",
        "\n",
        "# Asignación por copia\n",
        "A = np.array([[1, 2, 3],\n",
        "              [4, 5, 6],\n",
        "              [7, 8, 9]])  # Reestablecer A\n",
        "B = A.copy()\n",
        "B[0, 0] = 200\n",
        "print(\"\\nDespués de modificar B (copia):\")\n",
        "print(\"B:\")\n",
        "print(B)\n",
        "print(\"A no se modifica:\")\n",
        "print(A)\n"
      ]
    },
    {
      "cell_type": "markdown",
      "source": [
        "# 🧪 Generación de datos y redimensionado\n",
        "\n",
        "## 📌 Contexto\n",
        "Esta actividad busca fortalecer el dominio sobre las funciones predefinidas para crear arreglos, generar datos de prueba y reestructurar su forma utilizando `reshape()`.\n",
        "\n",
        "## 📝 Consigna\n",
        "Utiliza funciones de NumPy como `np.arange()`, `np.linspace()` y `np.random.randint()` para generar distintos tipos de arreglos. Luego, redimensiónalos con `reshape()` y aplica funciones matemáticas sobre ellos.\n",
        "\n",
        "## 🧭 Paso a paso\n",
        "\n",
        "1. Crea un arreglo `x` con `np.arange(1, 17)` y redimensiónalo como una matriz de 4x4.\n",
        "2. Genera un arreglo de 10 elementos equidistantes entre 0 y 100 usando `np.linspace()`.\n",
        "3. Crea una matriz aleatoria de 3x3 con enteros entre 1 y 20 utilizando `np.random.randint()`.\n",
        "4. Aplica `np.sqrt()` y `np.log()` sobre las matrices creadas (cuando sea posible).\n",
        "5. Analiza: ¿Qué diferencias notas al aplicar funciones sobre arreglos enteros versus flotantes?\n"
      ],
      "metadata": {
        "id": "KLa6fpYfSin3"
      }
    },
    {
      "cell_type": "code",
      "source": [
        "import numpy as np\n",
        "\n",
        "# Paso 1: Crear un arreglo con np.arange() y redimensionar a 4x4\n",
        "x = np.arange(1, 17)\n",
        "matriz_4x4 = x.reshape(4, 4)\n",
        "print(\"Matriz 4x4 con np.arange:\")\n",
        "print(matriz_4x4)\n",
        "\n",
        "# Paso 2: Crear un arreglo con np.linspace()\n",
        "linspace_array = np.linspace(0, 100, 10)\n",
        "print(\"\\nArreglo con np.linspace (10 elementos entre 0 y 100):\")\n",
        "print(linspace_array)\n",
        "\n",
        "# Paso 3: Crear una matriz aleatoria de enteros entre 1 y 20 con np.random.randint()\n",
        "random_matrix = np.random.randint(1, 21, size=(3, 3))\n",
        "print(\"\\nMatriz aleatoria 3x3 con enteros entre 1 y 20:\")\n",
        "print(random_matrix)\n",
        "\n",
        "# Paso 4: Aplicar np.sqrt() y np.log() (donde sea posible)\n",
        "sqrt_matriz = np.sqrt(matriz_4x4)\n",
        "log_linspace = np.log(linspace_array[linspace_array > 0])  # evitar log(0)\n",
        "sqrt_random = np.sqrt(random_matrix)\n",
        "\n",
        "print(\"\\nRaíz cuadrada de la matriz 4x4:\")\n",
        "print(sqrt_matriz)\n",
        "\n",
        "print(\"\\nLogaritmo natural de los valores mayores a 0 del linspace:\")\n",
        "print(log_linspace)\n",
        "\n",
        "print(\"\\nRaíz cuadrada de la matriz aleatoria:\")\n",
        "print(sqrt_random)\n",
        "\n",
        "# Paso 5: Análisis (comentario)\n",
        "print(\"\"\"\n",
        "🧠 Análisis:\n",
        "- Las funciones como sqrt y log pueden aplicarse directamente sobre arreglos NumPy sin necesidad de bucles.\n",
        "- Los resultados sobre arreglos de tipo flotante (como los de linspace) tienden a ser más precisos con funciones matemáticas continuas.\n",
        "- En arreglos enteros como el generado por randint, sqrt transforma los valores a flotantes, lo cual puede ser útil para ciertos cálculos.\n",
        "\"\"\")\n"
      ],
      "metadata": {
        "colab": {
          "base_uri": "https://localhost:8080/"
        },
        "id": "MQAuhAQJSegz",
        "outputId": "3b18bf5a-8c23-482c-e569-75f68629edc2"
      },
      "execution_count": 2,
      "outputs": [
        {
          "output_type": "stream",
          "name": "stdout",
          "text": [
            "Matriz 4x4 con np.arange:\n",
            "[[ 1  2  3  4]\n",
            " [ 5  6  7  8]\n",
            " [ 9 10 11 12]\n",
            " [13 14 15 16]]\n",
            "\n",
            "Arreglo con np.linspace (10 elementos entre 0 y 100):\n",
            "[  0.          11.11111111  22.22222222  33.33333333  44.44444444\n",
            "  55.55555556  66.66666667  77.77777778  88.88888889 100.        ]\n",
            "\n",
            "Matriz aleatoria 3x3 con enteros entre 1 y 20:\n",
            "[[ 1  4  6]\n",
            " [ 4 19  7]\n",
            " [14 17 12]]\n",
            "\n",
            "Raíz cuadrada de la matriz 4x4:\n",
            "[[1.         1.41421356 1.73205081 2.        ]\n",
            " [2.23606798 2.44948974 2.64575131 2.82842712]\n",
            " [3.         3.16227766 3.31662479 3.46410162]\n",
            " [3.60555128 3.74165739 3.87298335 4.        ]]\n",
            "\n",
            "Logaritmo natural de los valores mayores a 0 del linspace:\n",
            "[2.40794561 3.10109279 3.5065579  3.79423997 4.01738352 4.19970508\n",
            " 4.35385576 4.48738715 4.60517019]\n",
            "\n",
            "Raíz cuadrada de la matriz aleatoria:\n",
            "[[1.         2.         2.44948974]\n",
            " [2.         4.35889894 2.64575131]\n",
            " [3.74165739 4.12310563 3.46410162]]\n",
            "\n",
            "🧠 Análisis:\n",
            "- Las funciones como sqrt y log pueden aplicarse directamente sobre arreglos NumPy sin necesidad de bucles.\n",
            "- Los resultados sobre arreglos de tipo flotante (como los de linspace) tienden a ser más precisos con funciones matemáticas continuas.\n",
            "- En arreglos enteros como el generado por randint, sqrt transforma los valores a flotantes, lo cual puede ser útil para ciertos cálculos.\n",
            "\n"
          ]
        }
      ]
    },
    {
      "cell_type": "code",
      "source": [],
      "metadata": {
        "id": "wcGDQgReVVX8"
      },
      "execution_count": null,
      "outputs": []
    }
  ]
}