{
  "nbformat": 4,
  "nbformat_minor": 0,
  "metadata": {
    "colab": {
      "provenance": []
    },
    "kernelspec": {
      "name": "python3",
      "display_name": "Python 3"
    },
    "language_info": {
      "name": "python"
    }
  },
  "cells": [
    {
      "cell_type": "markdown",
      "source": [
        "### Exploración de archivos CSV\n",
        "\n",
        "**Contexto**  \n",
        "Aprender a importar datos desde archivos CSV, comprender su estructura y aplicar buenas prácticas para la carga de datos tabulares en Python utilizando la librería **pandas**.\n",
        "\n",
        "---\n",
        "\n",
        "**Consigna**  \n",
        "Usa `pandas` para cargar un archivo CSV, inspecciona su contenido y exporta una versión modificada del archivo aplicando algunas transformaciones básicas.\n",
        "\n",
        "---\n",
        "\n",
        "**Paso a paso**\n",
        "\n",
        "1. Importa la librería `pandas` con `import pandas as pd`.\n",
        "\n",
        "2. Lee un archivo CSV utilizando `pd.read_csv()` y asígnalo a una variable llamada `df`.\n",
        "\n",
        "3. Visualiza las primeras filas con `df.head()` y revisa la estructura general con `df.info()`.\n",
        "\n",
        "4. Si el archivo no tiene encabezados, utiliza los parámetros `header=None` y `names=[]` para asignar nombres personalizados a las columnas.\n",
        "\n",
        "5. Detecta valores nulos con `df.isnull().sum()` y reemplázalos si es necesario usando métodos como `fillna()` o `dropna()`.\n",
        "\n",
        "6. Exporta el DataFrame modificado a un nuevo archivo CSV usando `df.to_csv()`.\n",
        "\n"
      ],
      "metadata": {
        "id": "myH21C61dOVd"
      }
    },
    {
      "cell_type": "code",
      "execution_count": 1,
      "metadata": {
        "colab": {
          "base_uri": "https://localhost:8080/",
          "height": 73
        },
        "id": "r9RvH6tGbAM6",
        "outputId": "0237a40d-0b0b-4b6f-f058-3d57784cc0a7"
      },
      "outputs": [
        {
          "output_type": "display_data",
          "data": {
            "text/plain": [
              "<IPython.core.display.HTML object>"
            ],
            "text/html": [
              "\n",
              "     <input type=\"file\" id=\"files-920f09de-34ba-4439-a306-ff43506c8e18\" name=\"files[]\" multiple disabled\n",
              "        style=\"border:none\" />\n",
              "     <output id=\"result-920f09de-34ba-4439-a306-ff43506c8e18\">\n",
              "      Upload widget is only available when the cell has been executed in the\n",
              "      current browser session. Please rerun this cell to enable.\n",
              "      </output>\n",
              "      <script>// Copyright 2017 Google LLC\n",
              "//\n",
              "// Licensed under the Apache License, Version 2.0 (the \"License\");\n",
              "// you may not use this file except in compliance with the License.\n",
              "// You may obtain a copy of the License at\n",
              "//\n",
              "//      http://www.apache.org/licenses/LICENSE-2.0\n",
              "//\n",
              "// Unless required by applicable law or agreed to in writing, software\n",
              "// distributed under the License is distributed on an \"AS IS\" BASIS,\n",
              "// WITHOUT WARRANTIES OR CONDITIONS OF ANY KIND, either express or implied.\n",
              "// See the License for the specific language governing permissions and\n",
              "// limitations under the License.\n",
              "\n",
              "/**\n",
              " * @fileoverview Helpers for google.colab Python module.\n",
              " */\n",
              "(function(scope) {\n",
              "function span(text, styleAttributes = {}) {\n",
              "  const element = document.createElement('span');\n",
              "  element.textContent = text;\n",
              "  for (const key of Object.keys(styleAttributes)) {\n",
              "    element.style[key] = styleAttributes[key];\n",
              "  }\n",
              "  return element;\n",
              "}\n",
              "\n",
              "// Max number of bytes which will be uploaded at a time.\n",
              "const MAX_PAYLOAD_SIZE = 100 * 1024;\n",
              "\n",
              "function _uploadFiles(inputId, outputId) {\n",
              "  const steps = uploadFilesStep(inputId, outputId);\n",
              "  const outputElement = document.getElementById(outputId);\n",
              "  // Cache steps on the outputElement to make it available for the next call\n",
              "  // to uploadFilesContinue from Python.\n",
              "  outputElement.steps = steps;\n",
              "\n",
              "  return _uploadFilesContinue(outputId);\n",
              "}\n",
              "\n",
              "// This is roughly an async generator (not supported in the browser yet),\n",
              "// where there are multiple asynchronous steps and the Python side is going\n",
              "// to poll for completion of each step.\n",
              "// This uses a Promise to block the python side on completion of each step,\n",
              "// then passes the result of the previous step as the input to the next step.\n",
              "function _uploadFilesContinue(outputId) {\n",
              "  const outputElement = document.getElementById(outputId);\n",
              "  const steps = outputElement.steps;\n",
              "\n",
              "  const next = steps.next(outputElement.lastPromiseValue);\n",
              "  return Promise.resolve(next.value.promise).then((value) => {\n",
              "    // Cache the last promise value to make it available to the next\n",
              "    // step of the generator.\n",
              "    outputElement.lastPromiseValue = value;\n",
              "    return next.value.response;\n",
              "  });\n",
              "}\n",
              "\n",
              "/**\n",
              " * Generator function which is called between each async step of the upload\n",
              " * process.\n",
              " * @param {string} inputId Element ID of the input file picker element.\n",
              " * @param {string} outputId Element ID of the output display.\n",
              " * @return {!Iterable<!Object>} Iterable of next steps.\n",
              " */\n",
              "function* uploadFilesStep(inputId, outputId) {\n",
              "  const inputElement = document.getElementById(inputId);\n",
              "  inputElement.disabled = false;\n",
              "\n",
              "  const outputElement = document.getElementById(outputId);\n",
              "  outputElement.innerHTML = '';\n",
              "\n",
              "  const pickedPromise = new Promise((resolve) => {\n",
              "    inputElement.addEventListener('change', (e) => {\n",
              "      resolve(e.target.files);\n",
              "    });\n",
              "  });\n",
              "\n",
              "  const cancel = document.createElement('button');\n",
              "  inputElement.parentElement.appendChild(cancel);\n",
              "  cancel.textContent = 'Cancel upload';\n",
              "  const cancelPromise = new Promise((resolve) => {\n",
              "    cancel.onclick = () => {\n",
              "      resolve(null);\n",
              "    };\n",
              "  });\n",
              "\n",
              "  // Wait for the user to pick the files.\n",
              "  const files = yield {\n",
              "    promise: Promise.race([pickedPromise, cancelPromise]),\n",
              "    response: {\n",
              "      action: 'starting',\n",
              "    }\n",
              "  };\n",
              "\n",
              "  cancel.remove();\n",
              "\n",
              "  // Disable the input element since further picks are not allowed.\n",
              "  inputElement.disabled = true;\n",
              "\n",
              "  if (!files) {\n",
              "    return {\n",
              "      response: {\n",
              "        action: 'complete',\n",
              "      }\n",
              "    };\n",
              "  }\n",
              "\n",
              "  for (const file of files) {\n",
              "    const li = document.createElement('li');\n",
              "    li.append(span(file.name, {fontWeight: 'bold'}));\n",
              "    li.append(span(\n",
              "        `(${file.type || 'n/a'}) - ${file.size} bytes, ` +\n",
              "        `last modified: ${\n",
              "            file.lastModifiedDate ? file.lastModifiedDate.toLocaleDateString() :\n",
              "                                    'n/a'} - `));\n",
              "    const percent = span('0% done');\n",
              "    li.appendChild(percent);\n",
              "\n",
              "    outputElement.appendChild(li);\n",
              "\n",
              "    const fileDataPromise = new Promise((resolve) => {\n",
              "      const reader = new FileReader();\n",
              "      reader.onload = (e) => {\n",
              "        resolve(e.target.result);\n",
              "      };\n",
              "      reader.readAsArrayBuffer(file);\n",
              "    });\n",
              "    // Wait for the data to be ready.\n",
              "    let fileData = yield {\n",
              "      promise: fileDataPromise,\n",
              "      response: {\n",
              "        action: 'continue',\n",
              "      }\n",
              "    };\n",
              "\n",
              "    // Use a chunked sending to avoid message size limits. See b/62115660.\n",
              "    let position = 0;\n",
              "    do {\n",
              "      const length = Math.min(fileData.byteLength - position, MAX_PAYLOAD_SIZE);\n",
              "      const chunk = new Uint8Array(fileData, position, length);\n",
              "      position += length;\n",
              "\n",
              "      const base64 = btoa(String.fromCharCode.apply(null, chunk));\n",
              "      yield {\n",
              "        response: {\n",
              "          action: 'append',\n",
              "          file: file.name,\n",
              "          data: base64,\n",
              "        },\n",
              "      };\n",
              "\n",
              "      let percentDone = fileData.byteLength === 0 ?\n",
              "          100 :\n",
              "          Math.round((position / fileData.byteLength) * 100);\n",
              "      percent.textContent = `${percentDone}% done`;\n",
              "\n",
              "    } while (position < fileData.byteLength);\n",
              "  }\n",
              "\n",
              "  // All done.\n",
              "  yield {\n",
              "    response: {\n",
              "      action: 'complete',\n",
              "    }\n",
              "  };\n",
              "}\n",
              "\n",
              "scope.google = scope.google || {};\n",
              "scope.google.colab = scope.google.colab || {};\n",
              "scope.google.colab._files = {\n",
              "  _uploadFiles,\n",
              "  _uploadFilesContinue,\n",
              "};\n",
              "})(self);\n",
              "</script> "
            ]
          },
          "metadata": {}
        },
        {
          "output_type": "stream",
          "name": "stdout",
          "text": [
            "Saving all_cars_datset_final.csv to all_cars_datset_final.csv\n"
          ]
        }
      ],
      "source": [
        "from google.colab import files\n",
        "uploaded = files.upload()\n"
      ]
    },
    {
      "cell_type": "code",
      "source": [
        "import pandas as pd\n",
        "\n",
        "# Reemplaza 'nombre_archivo.csv' por el nombre real del archivo que subiste\n",
        "df = pd.read_csv('all_cars_datset_final.csv')\n",
        "\n"
      ],
      "metadata": {
        "id": "EKbzJQHGfKNq"
      },
      "execution_count": 3,
      "outputs": []
    },
    {
      "cell_type": "code",
      "source": [
        "# 1. Importar pandas\n",
        "import pandas as pd\n",
        "\n",
        "# 2. Cargar el archivo CSV\n",
        "df = pd.read_csv('all_cars_datset_final.csv')\n",
        "\n",
        "# 3. Visualizar las primeras filas\n",
        "print(\"Primeras filas del archivo:\")\n",
        "print(df.head())\n",
        "\n",
        "# 4. Revisar la estructura general\n",
        "print(\"\\nInformación general del DataFrame:\")\n",
        "print(df.info())\n",
        "\n",
        "\n",
        "# Renombrar una columna del DataFrame\n",
        "df.rename(columns={\"Car Name\": \"Model\"}, inplace=True)\n",
        "\n",
        "# Verificar el cambio\n",
        "print(df.head())\n",
        "\n",
        "# 6. Detectar valores nulos\n",
        "print(\"\\nValores nulos por columna:\")\n",
        "print(df.isnull().sum())\n",
        "\n",
        "# 7. Reemplazar valores nulos si es necesario (aquí ejemplo rellenando con \"Desconocido\")\n",
        "# df.fillna(\"Desconocido\", inplace=True)\n",
        "\n",
        "# 8. Exportar el DataFrame modificado a un nuevo archivo CSV\n",
        "df.to_csv('cars_dataset_cleaned.csv', index=False)\n",
        "print(\"\\nArchivo exportado como 'cars_dataset_cleaned.csv'\")\n"
      ],
      "metadata": {
        "colab": {
          "base_uri": "https://localhost:8080/"
        },
        "id": "55XHXC-0fW1w",
        "outputId": "de833c98-5309-4703-8e0d-c6684effdc82"
      },
      "execution_count": 5,
      "outputs": [
        {
          "output_type": "stream",
          "name": "stdout",
          "text": [
            "Primeras filas del archivo:\n",
            "           Brand       Car Name          Price Rating         Safety  \\\n",
            "0  Maruti Suzuki  Maruti Brezza  Rs. 8.69 Lakh  4.5/5  4 Star Safety   \n",
            "1  Maruti Suzuki   Maruti Fronx  Rs. 7.54 Lakh  4.6/5  3 Star Safety   \n",
            "2  Maruti Suzuki   Maruti Swift  Rs. 6.49 Lakh  4.6/5  2 Star Safety   \n",
            "3  Maruti Suzuki   Maruti Dzire  Rs. 6.84 Lakh  4.7/5  5 Star Safety   \n",
            "4  Maruti Suzuki  Maruti Baleno  Rs. 6.70 Lakh  4.5/5  4 Star Safety   \n",
            "\n",
            "      Mileage Power (BHP) FY2024(sales)  \n",
            "0  17-25 kmpl  87-102 bhp      1,69,897  \n",
            "1  20-28 kmpl   76-99 bhp      1,34,735  \n",
            "2  24-32 kmpl   69-80 bhp      1,95,321  \n",
            "3  24-33 kmpl   69-80 bhp      1,64,517  \n",
            "4  22-30 kmpl   76-88 bhp      1,95,607  \n",
            "\n",
            "Información general del DataFrame:\n",
            "<class 'pandas.core.frame.DataFrame'>\n",
            "RangeIndex: 248 entries, 0 to 247\n",
            "Data columns (total 8 columns):\n",
            " #   Column         Non-Null Count  Dtype \n",
            "---  ------         --------------  ----- \n",
            " 0   Brand          248 non-null    object\n",
            " 1   Car Name       248 non-null    object\n",
            " 2   Price          248 non-null    object\n",
            " 3   Rating         242 non-null    object\n",
            " 4   Safety         199 non-null    object\n",
            " 5   Mileage        129 non-null    object\n",
            " 6   Power (BHP)    209 non-null    object\n",
            " 7   FY2024(sales)  112 non-null    object\n",
            "dtypes: object(8)\n",
            "memory usage: 15.6+ KB\n",
            "None\n",
            "           Brand          Model          Price Rating         Safety  \\\n",
            "0  Maruti Suzuki  Maruti Brezza  Rs. 8.69 Lakh  4.5/5  4 Star Safety   \n",
            "1  Maruti Suzuki   Maruti Fronx  Rs. 7.54 Lakh  4.6/5  3 Star Safety   \n",
            "2  Maruti Suzuki   Maruti Swift  Rs. 6.49 Lakh  4.6/5  2 Star Safety   \n",
            "3  Maruti Suzuki   Maruti Dzire  Rs. 6.84 Lakh  4.7/5  5 Star Safety   \n",
            "4  Maruti Suzuki  Maruti Baleno  Rs. 6.70 Lakh  4.5/5  4 Star Safety   \n",
            "\n",
            "      Mileage Power (BHP) FY2024(sales)  \n",
            "0  17-25 kmpl  87-102 bhp      1,69,897  \n",
            "1  20-28 kmpl   76-99 bhp      1,34,735  \n",
            "2  24-32 kmpl   69-80 bhp      1,95,321  \n",
            "3  24-33 kmpl   69-80 bhp      1,64,517  \n",
            "4  22-30 kmpl   76-88 bhp      1,95,607  \n",
            "\n",
            "Valores nulos por columna:\n",
            "Brand              0\n",
            "Model              0\n",
            "Price              0\n",
            "Rating             6\n",
            "Safety            49\n",
            "Mileage          119\n",
            "Power (BHP)       39\n",
            "FY2024(sales)    136\n",
            "dtype: int64\n",
            "\n",
            "Archivo exportado como 'cars_dataset_cleaned.csv'\n"
          ]
        }
      ]
    },
    {
      "cell_type": "code",
      "source": [
        "from google.colab import files\n",
        "files.download('cars_dataset_cleaned.csv')\n"
      ],
      "metadata": {
        "colab": {
          "base_uri": "https://localhost:8080/",
          "height": 17
        },
        "id": "3mKbr3L0foRH",
        "outputId": "1a15501d-97a9-4fb6-b94e-98f3e4aa3a1d"
      },
      "execution_count": 6,
      "outputs": [
        {
          "output_type": "display_data",
          "data": {
            "text/plain": [
              "<IPython.core.display.Javascript object>"
            ],
            "application/javascript": [
              "\n",
              "    async function download(id, filename, size) {\n",
              "      if (!google.colab.kernel.accessAllowed) {\n",
              "        return;\n",
              "      }\n",
              "      const div = document.createElement('div');\n",
              "      const label = document.createElement('label');\n",
              "      label.textContent = `Downloading \"${filename}\": `;\n",
              "      div.appendChild(label);\n",
              "      const progress = document.createElement('progress');\n",
              "      progress.max = size;\n",
              "      div.appendChild(progress);\n",
              "      document.body.appendChild(div);\n",
              "\n",
              "      const buffers = [];\n",
              "      let downloaded = 0;\n",
              "\n",
              "      const channel = await google.colab.kernel.comms.open(id);\n",
              "      // Send a message to notify the kernel that we're ready.\n",
              "      channel.send({})\n",
              "\n",
              "      for await (const message of channel.messages) {\n",
              "        // Send a message to notify the kernel that we're ready.\n",
              "        channel.send({})\n",
              "        if (message.buffers) {\n",
              "          for (const buffer of message.buffers) {\n",
              "            buffers.push(buffer);\n",
              "            downloaded += buffer.byteLength;\n",
              "            progress.value = downloaded;\n",
              "          }\n",
              "        }\n",
              "      }\n",
              "      const blob = new Blob(buffers, {type: 'application/binary'});\n",
              "      const a = document.createElement('a');\n",
              "      a.href = window.URL.createObjectURL(blob);\n",
              "      a.download = filename;\n",
              "      div.appendChild(a);\n",
              "      a.click();\n",
              "      div.remove();\n",
              "    }\n",
              "  "
            ]
          },
          "metadata": {}
        },
        {
          "output_type": "display_data",
          "data": {
            "text/plain": [
              "<IPython.core.display.Javascript object>"
            ],
            "application/javascript": [
              "download(\"download_4d18f242-18d0-4598-889c-9c13a006a8aa\", \"cars_dataset_cleaned.csv\", 18556)"
            ]
          },
          "metadata": {}
        }
      ]
    },
    {
      "cell_type": "markdown",
      "source": [
        "# Lectura desde Excel y extracción de tablas web\n",
        "\n",
        "## Contexto\n",
        "\n",
        "Experimentaremos con la importación de datos desde diferentes fuentes: un archivo Excel y una tabla HTML, usando pandas como herramienta central.\n",
        "\n",
        "## Consigna\n",
        "\n",
        "Lee un archivo de Excel desde tu equipo y extrae una tabla HTML desde una página web. Utilizando pandas, explora ambos conjuntos de datos y guarda una copia en archivos locales.\n",
        "\n",
        "## Paso a paso\n",
        "\n",
        "- Asegúrate de tener instalada la librería `openpyxl` para poder leer archivos `.xlsx`.\n",
        "- Lee un archivo Excel con `pd.read_excel('archivo.xlsx')`.\n",
        "- Si hay múltiples hojas, prueba cargarlas usando el parámetro `sheet_name=`.\n",
        "- Busca una URL que contenga una tabla HTML simple.\n",
        "- Utiliza `pd.read_html('url')` para importar la tabla (recuerda que devuelve una lista con DataFrames).\n",
        "- Explora los datos con `.head()` y `.describe()`.\n",
        "- Exporta ambos conjuntos de datos como nuevos archivos `.xlsx` y `.csv`.\n"
      ],
      "metadata": {
        "id": "lNnEU0zDgk8y"
      }
    },
    {
      "cell_type": "code",
      "source": [
        "import pandas as pd\n",
        "\n",
        "url = 'https://www.fdic.gov/resources/resolutions/bank-failures/failed-bank-list/'\n",
        "\n",
        "# read_html devuelve una lista de tablas\n",
        "tablas = pd.read_html(url)\n",
        "\n",
        "# Imprimimos cuántas tablas se extrajeron\n",
        "print(f\"Se encontraron {len(tablas)} tablas.\")\n",
        "\n",
        "# Seleccionamos la primera tabla\n",
        "df_bancos = tablas[0]\n",
        "\n",
        "# Mostramos las primeras filas\n",
        "print(df_bancos.head())\n",
        "\n",
        "print(df_bancos.describe())\n",
        "\n",
        "# Exportar a CSV (sin índice)\n",
        "df_bancos.to_csv('bancos_fallidos.csv', index=False)\n",
        "\n",
        "# Exportar a Excel (sin índice)\n",
        "df_bancos.to_excel('bancos_fallidos.xlsx', index=False)\n",
        "\n",
        "print(\"Archivos exportados correctamente.\")\n"
      ],
      "metadata": {
        "colab": {
          "base_uri": "https://localhost:8080/"
        },
        "id": "MDlNZupKgTPu",
        "outputId": "a335350a-c6e3-4d21-9216-417244a4bd28"
      },
      "execution_count": 12,
      "outputs": [
        {
          "output_type": "stream",
          "name": "stdout",
          "text": [
            "Se encontraron 1 tablas.\n",
            "                               Bank Name          City         State   Cert  \\\n",
            "0           The Santa Anna National Bank    Santa Anna         Texas   5520   \n",
            "1                   Pulaski Savings Bank       Chicago      Illinois  28611   \n",
            "2     The First National Bank of Lindsay       Lindsay      Oklahoma   4134   \n",
            "3  Republic First Bank dba Republic Bank  Philadelphia  Pennsylvania  27332   \n",
            "4                          Citizens Bank      Sac City          Iowa   8758   \n",
            "\n",
            "                Acquiring Institution      Closing Date  Fund  Sort ascending  \n",
            "0           Coleman County State Bank     June 27, 2025                 10549  \n",
            "1                     Millennium Bank  January 17, 2025                 10548  \n",
            "2  First Bank & Trust Co., Duncan, OK  October 18, 2024                 10547  \n",
            "3   Fulton Bank, National Association    April 26, 2024                 10546  \n",
            "4           Iowa Trust & Savings Bank  November 3, 2023                 10545  \n",
            "               Cert  Fund  Sort ascending\n",
            "count     10.000000             10.000000\n",
            "mean   25643.700000          10543.900000\n",
            "std    19350.578424              3.842742\n",
            "min     4134.000000          10538.000000\n",
            "25%    10425.000000          10540.750000\n",
            "50%    25293.000000          10544.500000\n",
            "75%    28291.250000          10546.750000\n",
            "max    59017.000000          10549.000000\n",
            "Archivos exportados correctamente.\n"
          ]
        }
      ]
    },
    {
      "cell_type": "code",
      "source": [
        "from google.colab import files\n",
        "\n",
        "# Descargar CSV\n",
        "files.download('bancos_fallidos.csv')\n",
        "\n",
        "# Descargar Excel\n",
        "files.download('bancos_fallidos.xlsx')\n"
      ],
      "metadata": {
        "colab": {
          "base_uri": "https://localhost:8080/",
          "height": 17
        },
        "id": "M_SV8TEKg6GO",
        "outputId": "1e8ef446-9593-419b-8f38-f8bc29badd28"
      },
      "execution_count": 13,
      "outputs": [
        {
          "output_type": "display_data",
          "data": {
            "text/plain": [
              "<IPython.core.display.Javascript object>"
            ],
            "application/javascript": [
              "\n",
              "    async function download(id, filename, size) {\n",
              "      if (!google.colab.kernel.accessAllowed) {\n",
              "        return;\n",
              "      }\n",
              "      const div = document.createElement('div');\n",
              "      const label = document.createElement('label');\n",
              "      label.textContent = `Downloading \"${filename}\": `;\n",
              "      div.appendChild(label);\n",
              "      const progress = document.createElement('progress');\n",
              "      progress.max = size;\n",
              "      div.appendChild(progress);\n",
              "      document.body.appendChild(div);\n",
              "\n",
              "      const buffers = [];\n",
              "      let downloaded = 0;\n",
              "\n",
              "      const channel = await google.colab.kernel.comms.open(id);\n",
              "      // Send a message to notify the kernel that we're ready.\n",
              "      channel.send({})\n",
              "\n",
              "      for await (const message of channel.messages) {\n",
              "        // Send a message to notify the kernel that we're ready.\n",
              "        channel.send({})\n",
              "        if (message.buffers) {\n",
              "          for (const buffer of message.buffers) {\n",
              "            buffers.push(buffer);\n",
              "            downloaded += buffer.byteLength;\n",
              "            progress.value = downloaded;\n",
              "          }\n",
              "        }\n",
              "      }\n",
              "      const blob = new Blob(buffers, {type: 'application/binary'});\n",
              "      const a = document.createElement('a');\n",
              "      a.href = window.URL.createObjectURL(blob);\n",
              "      a.download = filename;\n",
              "      div.appendChild(a);\n",
              "      a.click();\n",
              "      div.remove();\n",
              "    }\n",
              "  "
            ]
          },
          "metadata": {}
        },
        {
          "output_type": "display_data",
          "data": {
            "text/plain": [
              "<IPython.core.display.Javascript object>"
            ],
            "application/javascript": [
              "download(\"download_823352d7-3ba9-43cd-9cd9-5f6f658daa54\", \"bancos_fallidos.csv\", 1057)"
            ]
          },
          "metadata": {}
        },
        {
          "output_type": "display_data",
          "data": {
            "text/plain": [
              "<IPython.core.display.Javascript object>"
            ],
            "application/javascript": [
              "\n",
              "    async function download(id, filename, size) {\n",
              "      if (!google.colab.kernel.accessAllowed) {\n",
              "        return;\n",
              "      }\n",
              "      const div = document.createElement('div');\n",
              "      const label = document.createElement('label');\n",
              "      label.textContent = `Downloading \"${filename}\": `;\n",
              "      div.appendChild(label);\n",
              "      const progress = document.createElement('progress');\n",
              "      progress.max = size;\n",
              "      div.appendChild(progress);\n",
              "      document.body.appendChild(div);\n",
              "\n",
              "      const buffers = [];\n",
              "      let downloaded = 0;\n",
              "\n",
              "      const channel = await google.colab.kernel.comms.open(id);\n",
              "      // Send a message to notify the kernel that we're ready.\n",
              "      channel.send({})\n",
              "\n",
              "      for await (const message of channel.messages) {\n",
              "        // Send a message to notify the kernel that we're ready.\n",
              "        channel.send({})\n",
              "        if (message.buffers) {\n",
              "          for (const buffer of message.buffers) {\n",
              "            buffers.push(buffer);\n",
              "            downloaded += buffer.byteLength;\n",
              "            progress.value = downloaded;\n",
              "          }\n",
              "        }\n",
              "      }\n",
              "      const blob = new Blob(buffers, {type: 'application/binary'});\n",
              "      const a = document.createElement('a');\n",
              "      a.href = window.URL.createObjectURL(blob);\n",
              "      a.download = filename;\n",
              "      div.appendChild(a);\n",
              "      a.click();\n",
              "      div.remove();\n",
              "    }\n",
              "  "
            ]
          },
          "metadata": {}
        },
        {
          "output_type": "display_data",
          "data": {
            "text/plain": [
              "<IPython.core.display.Javascript object>"
            ],
            "application/javascript": [
              "download(\"download_5864aa31-5baa-42da-ab8b-affccfd5401a\", \"bancos_fallidos.xlsx\", 5774)"
            ]
          },
          "metadata": {}
        }
      ]
    },
    {
      "cell_type": "code",
      "source": [],
      "metadata": {
        "id": "OSrydCfHhn0G"
      },
      "execution_count": null,
      "outputs": []
    }
  ]
}