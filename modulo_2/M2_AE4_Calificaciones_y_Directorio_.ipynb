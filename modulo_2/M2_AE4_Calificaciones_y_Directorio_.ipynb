{
  "nbformat": 4,
  "nbformat_minor": 0,
  "metadata": {
    "colab": {
      "provenance": []
    },
    "kernelspec": {
      "name": "python3",
      "display_name": "Python 3"
    },
    "language_info": {
      "name": "python"
    }
  },
  "cells": [
    {
      "cell_type": "markdown",
      "source": [
        "#Análisis de Calificaciones\n",
        "##Contexto:\n",
        "\n",
        "\n",
        "Este ejercicio busca practicar el uso de listas y bucles for para recorrer datos, aplicar lógica condicional y calcular estadísticas básicas. Es una situación común en ingeniería de datos analizar valores numéricos como calificaciones.\n",
        "\n",
        "##Consigna:\n",
        "\n",
        "\n",
        "Escribe un programa que reciba una lista de calificaciones (números entre 0 y 100) y realice lo siguiente:\n",
        "\n",
        "-Calcular el promedio general.\n",
        "\n",
        "-Contar cuántos estudiantes aprobaron con una nota mayor a 60.\n",
        "\n",
        "-Generar una nueva lista solo con las notas aprobadas.\n",
        "\n",
        "##Paso a paso\n",
        "\n",
        "\n",
        "1- Define una lista con al menos 8 calificaciones.\n",
        "\n",
        "2- Usa un bucle for para recorrer las calificaciones y calcular el total acumulado.\n",
        "\n",
        "3- Usa una condición if para contar los aprobados y guardar sus notas en otra lista.\n",
        "\n",
        "4- Calcula el promedio final y muéstralo junto con la cantidad de aprobados y su lista de notas aprobadas."
      ],
      "metadata": {
        "id": "PgddNJlDsljf"
      }
    },
    {
      "cell_type": "code",
      "execution_count": 2,
      "metadata": {
        "colab": {
          "base_uri": "https://localhost:8080/"
        },
        "id": "9t3XOknhqonn",
        "outputId": "c1ab2830-5a88-4428-9bc3-90d90682ebe4"
      },
      "outputs": [
        {
          "output_type": "stream",
          "name": "stdout",
          "text": [
            "Promedio general: 65.50\n",
            "Cantidad de aprobados: 5\n",
            "Lista de notas aprobadas: [75, 90, 61, 80, 70]\n"
          ]
        }
      ],
      "source": [
        "# Lista de calificaciones\n",
        "calificaciones = [75, 48, 90, 61, 55, 80, 70, 45]\n",
        "\n",
        "# Variables para acumular datos\n",
        "total = 0\n",
        "aprobados = 0\n",
        "lista_aprobados = []\n",
        "\n",
        "# Recorrer la lista de calificaciones\n",
        "for nota in calificaciones:\n",
        "    total += nota  # Sumar para el promedio\n",
        "\n",
        "    if nota > 60:  # Condición para aprobar\n",
        "        aprobados += 1\n",
        "        lista_aprobados.append(nota)\n",
        "\n",
        "# Calcular promedio general\n",
        "promedio = total / len(calificaciones)\n",
        "\n",
        "# Mostrar resultados\n",
        "print(f\"Promedio general: {promedio:.2f}\")\n",
        "print(f\"Cantidad de aprobados: {aprobados}\")\n",
        "print(f\"Lista de notas aprobadas: {lista_aprobados}\")\n"
      ]
    },
    {
      "cell_type": "markdown",
      "source": [
        "# Directorio de Empleados\n",
        "\n",
        "## Contexto\n",
        "\n",
        "Este ejercicio trabaja con diccionarios anidados, como representación de un conjunto de datos estructurados. Refuerza el acceso por clave y la iteración sobre ítems.\n",
        "\n",
        "## Consigna\n",
        "\n",
        "Escribe un programa que recorra un diccionario de empleados con nombre y edad, y que:\n",
        "\n",
        "- Imprima los empleados mayores de 30 años.  \n",
        "- Genere una lista con los nombres de quienes tienen menos de 30 años.  \n",
        "- Indique cuántos empleados hay en total.  \n",
        "\n",
        "## Paso a paso\n",
        "\n",
        "1. Crea un diccionario con al menos cinco empleados, cada uno con nombre y edad.  \n",
        "2. Usa un bucle `for` junto con `.items()` para recorrer cada empleado.  \n",
        "3. Aplica una condición para filtrar según la edad.  \n",
        "4. Guarda una lista con los nombres que cumplan con el criterio.  \n",
        "5. Cuenta el total de empleados y muéstralo."
      ],
      "metadata": {
        "id": "e0VZgLUPutMR"
      }
    },
    {
      "cell_type": "code",
      "source": [
        "# Diccionario de empleados: clave = ID, valor = diccionario con nombre y edad\n",
        "empleados = {\n",
        "    1: {\"nombre\": \"Ana\", \"edad\": 28},\n",
        "    2: {\"nombre\": \"Luis\", \"edad\": 35},\n",
        "    3: {\"nombre\": \"Carla\", \"edad\": 42},\n",
        "    4: {\"nombre\": \"Jorge\", \"edad\": 25},\n",
        "    5: {\"nombre\": \"Marta\", \"edad\": 30}\n",
        "}\n",
        "\n",
        "# Lista para guardar nombres de empleados menores de 30\n",
        "menores_30 = []\n",
        "\n",
        "print(\"Empleados mayores de 30 años:\")\n",
        "\n",
        "# Recorrer el diccionario usando .items()\n",
        "for id_emp, info in empleados.items():\n",
        "    if info[\"edad\"] > 30:\n",
        "        print(f\"- {info['nombre']} ({info['edad']} años)\")\n",
        "    else:\n",
        "        menores_30.append(info[\"nombre\"])\n",
        "\n",
        "# Mostrar la lista de menores de 30\n",
        "print(\"\\nEmpleados menores de 30 años:\")\n",
        "print(menores_30)\n",
        "\n",
        "# Cantidad total de empleados\n",
        "total_empleados = len(empleados)\n",
        "print(f\"\\nTotal de empleados: {total_empleados}\")\n"
      ],
      "metadata": {
        "colab": {
          "base_uri": "https://localhost:8080/"
        },
        "id": "-8EPrYtNtOAE",
        "outputId": "5f84ff62-f2ab-4b62-917b-4cb3201b243a"
      },
      "execution_count": 3,
      "outputs": [
        {
          "output_type": "stream",
          "name": "stdout",
          "text": [
            "Empleados mayores de 30 años:\n",
            "- Luis (35 años)\n",
            "- Carla (42 años)\n",
            "\n",
            "Empleados menores de 30 años:\n",
            "['Ana', 'Jorge', 'Marta']\n",
            "\n",
            "Total de empleados: 5\n"
          ]
        }
      ]
    },
    {
      "cell_type": "code",
      "source": [],
      "metadata": {
        "id": "3Zj5LUx7u7pZ"
      },
      "execution_count": null,
      "outputs": []
    }
  ]
}