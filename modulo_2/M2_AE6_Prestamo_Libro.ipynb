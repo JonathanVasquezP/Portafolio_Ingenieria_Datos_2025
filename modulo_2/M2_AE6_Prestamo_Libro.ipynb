{
  "nbformat": 4,
  "nbformat_minor": 0,
  "metadata": {
    "colab": {
      "provenance": []
    },
    "kernelspec": {
      "name": "python3",
      "display_name": "Python 3"
    },
    "language_info": {
      "name": "python"
    }
  },
  "cells": [
    {
      "cell_type": "markdown",
      "source": [
        "# Préstamo simple en una biblioteca\n",
        "\n",
        "## Contexto\n",
        "\n",
        "Estás desarrollando una parte básica del sistema de una biblioteca. Queremos permitir que un usuario pueda pedir prestado un libro, siempre que haya stock. En caso de no haber ejemplares disponibles, se debe lanzar una excepción clara que el sistema pueda capturar.\n",
        "\n",
        "## Consigna\n",
        "\n",
        "Implementa en Python las siguientes clases y funcionalidades:\n",
        "\n",
        "- Una clase `Libro` con los atributos: título, autor y stock.  \n",
        "- Una clase `Biblioteca` con un método `prestar_libro(titulo)` que:  \n",
        "  - Verifique si hay stock del libro solicitado.  \n",
        "  - Reduzca el stock si hay ejemplares disponibles.  \n",
        "  - Lance una excepción `LibroNoDisponibleError` si no hay stock.\n",
        "\n",
        "Además, captura la excepción e imprime un mensaje que indique el error al usuario.\n"
      ],
      "metadata": {
        "id": "XOtuJ8QY5hHz"
      }
    },
    {
      "cell_type": "code",
      "execution_count": 1,
      "metadata": {
        "colab": {
          "base_uri": "https://localhost:8080/"
        },
        "id": "Ezkp2eRq5fvr",
        "outputId": "05a5dfe0-8626-4cb8-d19a-3b1807699022"
      },
      "outputs": [
        {
          "output_type": "stream",
          "name": "stdout",
          "text": [
            "📚 Se ha prestado el libro: '1984'. Stock restante: 1\n",
            "📚 Se ha prestado el libro: '1984'. Stock restante: 0\n",
            "⚠️ El libro '1984' no está disponible en este momento.\n"
          ]
        }
      ],
      "source": [
        "# Definición de excepción personalizada\n",
        "class LibroNoDisponibleError(Exception):\n",
        "    pass\n",
        "\n",
        "# Clase Libro\n",
        "class Libro:\n",
        "    def __init__(self, titulo, autor, stock):\n",
        "        self.titulo = titulo\n",
        "        self.autor = autor\n",
        "        self.stock = stock\n",
        "\n",
        "    def __str__(self):\n",
        "        return f\"{self.titulo} por {self.autor} - Stock: {self.stock}\"\n",
        "\n",
        "# Clase Biblioteca\n",
        "class Biblioteca:\n",
        "    def __init__(self):\n",
        "        self.catalogo = {}\n",
        "\n",
        "    def agregar_libro(self, libro):\n",
        "        self.catalogo[libro.titulo] = libro\n",
        "\n",
        "    def prestar_libro(self, titulo):\n",
        "        if titulo in self.catalogo:\n",
        "            libro = self.catalogo[titulo]\n",
        "            if libro.stock > 0:\n",
        "                libro.stock -= 1\n",
        "                print(f\"📚 Se ha prestado el libro: '{libro.titulo}'. Stock restante: {libro.stock}\")\n",
        "            else:\n",
        "                raise LibroNoDisponibleError(f\"⚠️ El libro '{titulo}' no está disponible en este momento.\")\n",
        "        else:\n",
        "            print(f\"❌ El libro '{titulo}' no se encuentra en el catálogo.\")\n",
        "\n",
        "# Simulación\n",
        "mi_biblioteca = Biblioteca()\n",
        "\n",
        "# Agregar libros\n",
        "libro1 = Libro(\"1984\", \"George Orwell\", 2)\n",
        "libro2 = Libro(\"Cien años de soledad\", \"Gabriel García Márquez\", 1)\n",
        "mi_biblioteca.agregar_libro(libro1)\n",
        "mi_biblioteca.agregar_libro(libro2)\n",
        "\n",
        "# Intentar prestar libros\n",
        "try:\n",
        "    mi_biblioteca.prestar_libro(\"1984\")\n",
        "    mi_biblioteca.prestar_libro(\"1984\")\n",
        "    mi_biblioteca.prestar_libro(\"1984\")  # Aquí ya no hay stock\n",
        "except LibroNoDisponibleError as e:\n",
        "    print(e)\n"
      ]
    },
    {
      "cell_type": "code",
      "source": [],
      "metadata": {
        "id": "fkwRQywr559a"
      },
      "execution_count": null,
      "outputs": []
    }
  ]
}