{
  "nbformat": 4,
  "nbformat_minor": 0,
  "metadata": {
    "colab": {
      "provenance": []
    },
    "kernelspec": {
      "name": "python3",
      "display_name": "Python 3"
    },
    "language_info": {
      "name": "python"
    }
  },
  "cells": [
    {
      "cell_type": "markdown",
      "source": [
        "Contexto:\n",
        "\n",
        "Ejercicio en el uso de variables, tipo de datos, operaciones, aritméticas y condicionales simples, a través de un Queso que simula una situación real cotidiana. Esto refuerza la lógica y comprensión de los conceptos vistos en clase, en un entorno contextualizado.\n",
        "\n",
        "Consigna:\n",
        "\n",
        "Crear un programa en Python, que reciba el nombre, edad y país de residencia de una persona. El sistema debe imprimir un mensaje personalizado y adicionalmente informar si esa persona puede acceder a un beneficio que sólo está disponible para mayores de 18 años que vivan en Argentina, Chile o Colombia"
      ],
      "metadata": {
        "id": "2iZr47T7faGu"
      }
    },
    {
      "cell_type": "code",
      "source": [
        "def puede_acceder_beneficio(edad, pais):\n",
        "    paises_permitidos = [\"Argentina\", \"Chile\", \"Colombia\"]\n",
        "    if edad >= 18 and pais in paises_permitidos:\n",
        "        return True\n",
        "    else:\n",
        "        return False\n",
        "\n",
        "def main():\n",
        "    print(\"Bienvenido al sistema de beneficios\")\n",
        "\n",
        "    nombre = input(\"Ingresa tu nombre: \")\n",
        "    edad = int(input(\"Ingresa tu edad: \"))\n",
        "    pais = input(\"Ingresa tu país de residencia: \")\n",
        "\n",
        "    if puede_acceder_beneficio(edad, pais):\n",
        "        mensaje = f\"Hola {nombre}, tienes {edad} años y vives en {pais}. ¡Puedes acceder al beneficio!\"\n",
        "    else:\n",
        "        mensaje = f\"Hola {nombre}, lamentablemente no puedes acceder al beneficio.\"\n",
        "\n",
        "    print(mensaje)\n",
        "\n",
        "if __name__ == \"__main__\":\n",
        "    main()\n"
      ],
      "metadata": {
        "colab": {
          "base_uri": "https://localhost:8080/"
        },
        "id": "AvYDlPX3fa6G",
        "outputId": "4c4855aa-fd8e-433d-82fa-2fea11217a9c"
      },
      "execution_count": 1,
      "outputs": [
        {
          "output_type": "stream",
          "name": "stdout",
          "text": [
            "Bienvenido al sistema de beneficios\n",
            "Ingresa tu nombre: jonathan\n",
            "Ingresa tu edad: 31\n",
            "Ingresa tu país de residencia: Chile\n",
            "Hola jonathan, tienes 31 años y vives en Chile. ¡Puedes acceder al beneficio!\n"
          ]
        }
      ]
    }
  ]
}
