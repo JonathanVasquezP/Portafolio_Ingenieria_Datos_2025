{
  "nbformat": 4,
  "nbformat_minor": 0,
  "metadata": {
    "colab": {
      "provenance": []
    },
    "kernelspec": {
      "name": "python3",
      "display_name": "Python 3"
    },
    "language_info": {
      "name": "python"
    }
  },
  "cells": [
    {
      "cell_type": "markdown",
      "source": [
        "Contexto:\n",
        "\n",
        "En proyectos reales, separar funcionalidades en módulos hacia el código más manten Eyeball y profesional. Esta actividad busca que los estudiantes practiquen cómo crear y reutilizar módulos propios en Python.\n",
        "\n",
        "Consigna:\n",
        "\n",
        "Divide el programa de la actividad anterior, en dos archivos, uno que contenga las funciones tu propio módulo, y otro que es el programa principal, desde donde se importa y se ejecuta la lógica del menú\n",
        "En este caso se uso el mismo archivo ya que estamos trabajando en Google Colab\n"
      ],
      "metadata": {
        "id": "bFmcekftplLm"
      }
    },
    {
      "cell_type": "code",
      "execution_count": 2,
      "metadata": {
        "id": "AjYKEhiroK2i"
      },
      "outputs": [],
      "source": [
        "# Celda 1: Definición de funciones\n",
        "\n",
        "def puede_acceder_beneficio(edad, pais):\n",
        "    paises_permitidos = [\"Argentina\", \"Chile\", \"Colombia\"]\n",
        "    return edad >= 18 and pais in paises_permitidos\n",
        "\n",
        "def mensaje_personalizado(nombre, edad, pais):\n",
        "    if puede_acceder_beneficio(edad, pais):\n",
        "        return f\"Hola {nombre}, tienes {edad} años y puedes acceder al beneficio en {pais}.\"\n",
        "    else:\n",
        "        return f\"Hola {nombre}, lamentablemente no puedes acceder al beneficio.\"\n"
      ]
    },
    {
      "cell_type": "code",
      "source": [
        "# Celda 2: Programa principal\n",
        "\n",
        "def main():\n",
        "    nombre = input(\"Ingresa tu nombre: \")\n",
        "\n",
        "    while True:\n",
        "        try:\n",
        "            edad = int(input(\"Ingresa tu edad: \"))\n",
        "            break\n",
        "        except ValueError:\n",
        "            print(\"Por favor, ingresa un número válido para la edad.\")\n",
        "\n",
        "    pais = input(\"Ingresa tu país de residencia: \")\n",
        "\n",
        "    mensaje = mensaje_personalizado(nombre, edad, pais)\n",
        "    print(mensaje)\n",
        "\n",
        "main()\n"
      ],
      "metadata": {
        "colab": {
          "base_uri": "https://localhost:8080/"
        },
        "id": "ofMniCJjpMHK",
        "outputId": "eb9753ab-2e8f-4382-daf0-ea224fdb6add"
      },
      "execution_count": 4,
      "outputs": [
        {
          "output_type": "stream",
          "name": "stdout",
          "text": [
            "Ingresa tu nombre: JOnathan\n",
            "Ingresa tu edad: 31\n",
            "Ingresa tu país de residencia: Venezuela\n",
            "Hola JOnathan, lamentablemente no puedes acceder al beneficio.\n"
          ]
        }
      ]
    },
    {
      "cell_type": "code",
      "source": [],
      "metadata": {
        "id": "FIlZNuXKpN11"
      },
      "execution_count": null,
      "outputs": []
    }
  ]
}